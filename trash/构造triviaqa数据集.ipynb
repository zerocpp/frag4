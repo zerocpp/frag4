{
 "cells": [
  {
   "cell_type": "markdown",
   "metadata": {},
   "source": [
    "# 处理流程\n",
    "- 将原始数据集随机打乱，得到**乱序数据集**；\n",
    "- 可视化乱序数据集的上下文长度分布；\n",
    "- 保存乱序数据集。"
   ]
  },
  {
   "cell_type": "code",
   "execution_count": 1,
   "metadata": {},
   "outputs": [],
   "source": [
    "from abc import abstractmethod\n",
    "import gc\n",
    "import logging\n",
    "import random\n",
    "from tqdm import tqdm\n",
    "from transformers import StoppingCriteria\n",
    "import numpy as np\n",
    "from collections import defaultdict\n",
    "import torch\n",
    "from transformers import AutoTokenizer\n",
    "from transformers import AutoModelForCausalLM\n",
    "from transformers import StoppingCriteriaList\n",
    "\n",
    "# Load environment variables from .env file\n",
    "from dotenv import load_dotenv\n",
    "load_dotenv()\n",
    "\n",
    "import argparse\n",
    "import pickle\n",
    "\n",
    "import logging\n",
    "import os\n",
    "import json\n",
    "import hashlib\n",
    "import datasets\n",
    "\n",
    "from collections import Counter\n",
    "import matplotlib.pyplot as plt"
   ]
  },
  {
   "cell_type": "code",
   "execution_count": 2,
   "metadata": {},
   "outputs": [
    {
     "name": "stdout",
     "output_type": "stream",
     "text": [
      "DATA_DIR: /home/song/dataset\n"
     ]
    }
   ],
   "source": [
    "DATA_DIR = os.getenv(\"DATA_DIR\")\n",
    "print(f\"DATA_DIR: {DATA_DIR}\")"
   ]
  },
  {
   "cell_type": "code",
   "execution_count": 3,
   "metadata": {},
   "outputs": [],
   "source": [
    "# 使用镜像\n",
    "os.environ['HF_ENDPOINT'] = 'https://hf-mirror.com'\n",
    "\n",
    "def md5hash(s: str) -> str:\n",
    "    '''将字符串s序列化'''\n",
    "    import hashlib\n",
    "    return str(int(hashlib.md5(str(s).encode('utf-8')).hexdigest(), 16))"
   ]
  },
  {
   "cell_type": "code",
   "execution_count": 4,
   "metadata": {},
   "outputs": [
    {
     "name": "stderr",
     "output_type": "stream",
     "text": [
      "Found cached dataset parquet (/home/song/.cache/huggingface/datasets/TimoImhof___parquet/TimoImhof--TriviaQA-in-SQuAD-format-9e289a26688c4d08/0.0.0/2a3b91fbd88a2c90d1dbbb32b460cf621d31bd5b05b934492fdef7d8d6f236ec)\n"
     ]
    },
    {
     "data": {
      "application/vnd.jupyter.widget-view+json": {
       "model_id": "31521fc8569445d9a18261b3821224c1",
       "version_major": 2,
       "version_minor": 0
      },
      "text/plain": [
       "  0%|          | 0/3 [00:00<?, ?it/s]"
      ]
     },
     "metadata": {},
     "output_type": "display_data"
    },
    {
     "name": "stdout",
     "output_type": "stream",
     "text": [
      "Dataset({\n",
      "    features: ['id', 'question', 'context', 'answers'],\n",
      "    num_rows: 15368\n",
      "})\n"
     ]
    }
   ],
   "source": [
    "# 加载数据集\n",
    "dataset = datasets.load_dataset('TimoImhof/TriviaQA-in-SQuAD-format')['unmodified']\n",
    "print(dataset)"
   ]
  },
  {
   "cell_type": "code",
   "execution_count": 5,
   "metadata": {},
   "outputs": [
    {
     "data": {
      "text/plain": [
       "({'id': '164649986527822701568107714546363251126',\n",
       "  'origin_id': 'tc_276--Hold_On_to_the_Nights.txt#0',\n",
       "  'question': 'Who had an 80s No 1 hit with Hold On To The Nights?',\n",
       "  'context': '[DOC] [TLE] Hold On to the Nights\"Hold On to the Nights\" is a power ballad and number-one hit for American rock singer/songwriter/musician Richard Marx.  This was the fourth and final single released from his self-titled debut album, and the first to reach the top of the Billboard Hot 100 chart. [PAR] Written by Richard Marx, \"Hold On to the Nights\" reached the Billboard Hot 100 number 1 position on July 23, 1988, preventing Def Leppard\\'s \"Pour Some Sugar On Me\" from reaching the top spot that same week. The song was on the chart for twenty-one weeks, and left the chart at number 65. From Marx\\' debut 1987 album, Richard Marx, the song also reached number three on the Billboard Adult Contemporary chart. \"Hold On to the Nights\" has been re-released numerous albums  and is included on Marx\\'s live performance DVD A Night Out with Friends (2012). [PAR] Charts',\n",
       "  'answers': ['richard marx']},\n",
       " 15368)"
      ]
     },
     "execution_count": 5,
     "metadata": {},
     "output_type": "execute_result"
    }
   ],
   "source": [
    "reformat = lambda x: {\n",
    "    'id': md5hash(x['id']),\n",
    "    'origin_id': x['id'],\n",
    "    'question': x['question'],\n",
    "    'context': x['context'],\n",
    "    'answers': x['answers']['text'],\n",
    "}\n",
    "\n",
    "dataset = [reformat(d) for d in dataset if d['answers']['text']]\n",
    "dataset[0], len(dataset)"
   ]
  },
  {
   "cell_type": "code",
   "execution_count": 6,
   "metadata": {},
   "outputs": [
    {
     "data": {
      "image/png": "[encoded data removed]",
      "text/plain": [
       "<Figure size 640x480 with 1 Axes>"
      ]
     },
     "metadata": {},
     "output_type": "display_data"
    }
   ],
   "source": [
    "# 可视化上下文长度分布\n",
    "def plot_context_length(dataset):\n",
    "    context_lengths = [len(d['context']) for d in dataset]\n",
    "    plt.hist(context_lengths, bins=100, edgecolor='black')\n",
    "    plt.xlabel('Context Length')\n",
    "    plt.ylabel('Count')\n",
    "    plt.title('Context Length Distribution in Filtered Dataset')\n",
    "    plt.show()\n",
    "\n",
    "plot_context_length(dataset)"
   ]
  },
  {
   "cell_type": "code",
   "execution_count": 7,
   "metadata": {},
   "outputs": [
    {
     "name": "stdout",
     "output_type": "stream",
     "text": [
      "12294 1536 1538\n"
     ]
    }
   ],
   "source": [
    "# 固定随机数种子\n",
    "random.seed(42)\n",
    "# 将原数据集打乱\n",
    "random.shuffle(dataset)\n",
    "\n",
    "# 将原数据集按8:1:1分为train, validation, test数据集\n",
    "total_size = len(dataset)\n",
    "train_size = int(total_size * 0.8)\n",
    "validation_size = int(total_size * 0.1)\n",
    "new_train_dataset = dataset[:train_size]\n",
    "new_validation_dataset = dataset[train_size:train_size + validation_size]\n",
    "new_test_dataset = dataset[train_size + validation_size:]\n",
    "print(len(new_train_dataset), len(new_validation_dataset), len(new_test_dataset))"
   ]
  },
  {
   "cell_type": "code",
   "execution_count": 8,
   "metadata": {},
   "outputs": [],
   "source": [
    "# 添加无关上下文\n",
    "def add_irrelevant_context(dataset):\n",
    "    # 构建id-context字典\n",
    "    id_context_dict = {d['id']: d['context'] for d in dataset}\n",
    "    # 数据集id列表\n",
    "    id_list = [d['id'] for d in dataset]\n",
    "\n",
    "    while True:\n",
    "        # 生成新的id列表\n",
    "        shuffled_id_list = id_list.copy()\n",
    "        random.shuffle(shuffled_id_list)\n",
    "        # 确认新旧id列表对应位置不相同\n",
    "        if all(shuffled_id_list[i] != id_list[i] for i in range(len(id_list))):\n",
    "            break\n",
    "\n",
    "    # 在原数据集中增加字段\n",
    "    for i in range(len(dataset)):\n",
    "        dataset[i]['irrelevant_id'] = shuffled_id_list[i]\n",
    "        dataset[i]['irrelevant_context'] = id_context_dict[shuffled_id_list[i]]\n",
    "\n",
    "    return dataset\n",
    "\n",
    "new_train_dataset = add_irrelevant_context(new_train_dataset)\n",
    "new_validation_dataset = add_irrelevant_context(new_validation_dataset)\n",
    "new_test_dataset = add_irrelevant_context(new_test_dataset)"
   ]
  },
  {
   "cell_type": "code",
   "execution_count": 9,
   "metadata": {},
   "outputs": [
    {
     "name": "stdout",
     "output_type": "stream",
     "text": [
      "DatasetDict({\n",
      "    train: Dataset({\n",
      "        features: ['id', 'origin_id', 'question', 'context', 'answers', 'irrelevant_id', 'irrelevant_context'],\n",
      "        num_rows: 12294\n",
      "    })\n",
      "    validation: Dataset({\n",
      "        features: ['id', 'origin_id', 'question', 'context', 'answers', 'irrelevant_id', 'irrelevant_context'],\n",
      "        num_rows: 1536\n",
      "    })\n",
      "    test: Dataset({\n",
      "        features: ['id', 'origin_id', 'question', 'context', 'answers', 'irrelevant_id', 'irrelevant_context'],\n",
      "        num_rows: 1538\n",
      "    })\n",
      "})\n"
     ]
    },
    {
     "data": {
      "application/vnd.jupyter.widget-view+json": {
       "model_id": "b725c11f390340e493b68e7574f53a3e",
       "version_major": 2,
       "version_minor": 0
      },
      "text/plain": [
       "Saving the dataset (0/1 shards):   0%|          | 0/12294 [00:00<?, ? examples/s]"
      ]
     },
     "metadata": {},
     "output_type": "display_data"
    },
    {
     "data": {
      "application/vnd.jupyter.widget-view+json": {
       "model_id": "20bfb9a4c4674132b9272464068106c5",
       "version_major": 2,
       "version_minor": 0
      },
      "text/plain": [
       "Saving the dataset (0/1 shards):   0%|          | 0/1536 [00:00<?, ? examples/s]"
      ]
     },
     "metadata": {},
     "output_type": "display_data"
    },
    {
     "data": {
      "application/vnd.jupyter.widget-view+json": {
       "model_id": "0b76e43fc25142308f38dcf72c2bc28e",
       "version_major": 2,
       "version_minor": 0
      },
      "text/plain": [
       "Saving the dataset (0/1 shards):   0%|          | 0/1538 [00:00<?, ? examples/s]"
      ]
     },
     "metadata": {},
     "output_type": "display_data"
    },
    {
     "name": "stdout",
     "output_type": "stream",
     "text": [
      "Saved to /home/song/dataset/song/triviaqa\n"
     ]
    }
   ],
   "source": [
    "# 合并成一个DatasetDict\n",
    "dataset = datasets.DatasetDict({\n",
    "    'train': datasets.Dataset.from_list(new_train_dataset),\n",
    "    'validation': datasets.Dataset.from_list(new_validation_dataset),\n",
    "    'test': datasets.Dataset.from_list(new_test_dataset),\n",
    "})\n",
    "print(dataset)\n",
    "\n",
    "# 保存新数据集\n",
    "dataset.save_to_disk(f\"{DATA_DIR}/song/triviaqa\")\n",
    "print(f\"Saved to {DATA_DIR}/song/triviaqa\")"
   ]
  }
 ],
 "metadata": {
  "kernelspec": {
   "display_name": "frag",
   "language": "python",
   "name": "python3"
  },
  "language_info": {
   "codemirror_mode": {
    "name": "ipython",
    "version": 3
   },
   "file_extension": ".py",
   "mimetype": "text/x-python",
   "name": "python",
   "nbconvert_exporter": "python",
   "pygments_lexer": "ipython3",
   "version": "3.11.5"
  }
 },
 "nbformat": 4,
 "nbformat_minor": 2
}
