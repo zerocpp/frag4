{
 "cells": [
  {
   "cell_type": "code",
   "execution_count": 1,
   "id": "7081d81a-c145-4733-bb68-5e8ce77386f0",
   "metadata": {},
   "outputs": [],
   "source": [
    "import pandas as pd\n",
    "\n",
    "# 读取JSON文件\n",
    "dataset_train = pd.read_json('training12b_new.json')"
   ]
  },
  {
   "cell_type": "code",
   "execution_count": 4,
   "id": "3512526f",
   "metadata": {},
   "outputs": [
    {
     "name": "stdout",
     "output_type": "stream",
     "text": [
      "数据集的列名:\n",
      "Index(['questions'], dtype='object')\n",
      "\n",
      "第一条数据的内容:\n",
      "{'questions': {'body': 'Is Hirschsprung disease a mendelian or a multifactorial disorder?', 'documents': ['http://www.ncbi.nlm.nih.gov/pubmed/15858239', 'http://www.ncbi.nlm.nih.gov/pubmed/20598273', 'http://www.ncbi.nlm.nih.gov/pubmed/15829955', 'http://www.ncbi.nlm.nih.gov/pubmed/6650562', 'http://www.ncbi.nlm.nih.gov/pubmed/12239580', 'http://www.ncbi.nlm.nih.gov/pubmed/21995290', 'http://www.ncbi.nlm.nih.gov/pubmed/15617541', 'http://www.ncbi.nlm.nih.gov/pubmed/23001136', 'http://www.ncbi.nlm.nih.gov/pubmed/8896569'], 'ideal_answer': [\"Coding sequence mutations in RET, GDNF, EDNRB, EDN3, and SOX10 are involved in the development of Hirschsprung disease. The majority of these genes was shown to be related to Mendelian syndromic forms of Hirschsprung's disease, whereas the non-Mendelian inheritance of sporadic non-syndromic Hirschsprung disease proved to be complex; involvement of multiple loci was demonstrated in a multiplicative model.\"], 'concepts': ['http://www.disease-ontology.org/api/metadata/DOID:10487', 'http://www.nlm.nih.gov/cgi/mesh/2015/MB_cgi?field=uid&exact=Find+Exact+Term&term=D006627', 'http://www.nlm.nih.gov/cgi/mesh/2015/MB_cgi?field=uid&exact=Find+Exact+Term&term=D020412', 'http://www.disease-ontology.org/api/metadata/DOID:11372'], 'type': 'summary', 'id': '55031181e9bde69634000014', 'snippets': [{'offsetInBeginSection': 131, 'offsetInEndSection': 358, 'text': 'Hirschsprung disease (HSCR) is a multifactorial, non-mendelian disorder in which rare high-penetrance coding sequence mutations in the receptor tyrosine kinase RET contribute to risk in combination with mutations at other genes', 'beginSection': 'abstract', 'document': 'http://www.ncbi.nlm.nih.gov/pubmed/15829955', 'endSection': 'abstract'}, {'offsetInBeginSection': 554, 'offsetInEndSection': 992, 'text': \"In this study, we review the identification of genes and loci involved in the non-syndromic common form and syndromic Mendelian forms of Hirschsprung's disease. The majority of the identified genes are related to Mendelian syndromic forms of Hirschsprung's disease. The non-Mendelian inheritance of sporadic non-syndromic Hirschsprung's disease proved to be complex; involvement of multiple loci was demonstrated in a multiplicative model\", 'beginSection': 'abstract', 'document': 'http://www.ncbi.nlm.nih.gov/pubmed/15617541', 'endSection': 'abstract'}, {'offsetInBeginSection': 397, 'offsetInEndSection': 939, 'text': 'Coding sequence mutations in e.g. RET, GDNF, EDNRB, EDN3, and SOX10 lead to long-segment (L-HSCR) as well as syndromic HSCR but fail to explain the transmission of the much more common short-segment form (S-HSCR). Furthermore, mutations in the RET gene are responsible for approximately half of the familial and some sporadic cases, strongly suggesting, on the one hand, the importance of non-coding variations and, on the other hand, that additional genes involved in the development of the enteric nervous system still await their discovery', 'beginSection': 'abstract', 'document': 'http://www.ncbi.nlm.nih.gov/pubmed/12239580', 'endSection': 'abstract'}, {'offsetInBeginSection': 941, 'offsetInEndSection': 1279, 'text': 'For almost all of the identified HSCR genes incomplete penetrance of the HSCR phenotype has been reported, probably due to modifier loci. Therefore, HSCR has become a model for a complex oligo-/polygenic disorder in which the relationship between different genes creating a non-mendelian inheritance pattern still remains to be elucidated', 'beginSection': 'abstract', 'document': 'http://www.ncbi.nlm.nih.gov/pubmed/12239580', 'endSection': 'abstract'}, {'offsetInBeginSection': 129, 'offsetInEndSection': 358, 'text': ' Hirschsprung disease (HSCR) is a multifactorial, non-mendelian disorder in which rare high-penetrance coding sequence mutations in the receptor tyrosine kinase RET contribute to risk in combination with mutations at other genes.', 'beginSection': 'abstract', 'document': 'http://www.ncbi.nlm.nih.gov/pubmed/15829955', 'endSection': 'abstract'}, {'offsetInBeginSection': 851, 'offsetInEndSection': 1007, 'text': ' The inheritance of Hirschsprung disease is generally consistent with sex-modified multifactorial inheritance with a lower threshold of expression in males.', 'beginSection': 'abstract', 'document': 'http://www.ncbi.nlm.nih.gov/pubmed/6650562', 'endSection': 'abstract'}, {'offsetInBeginSection': 131, 'offsetInEndSection': 359, 'text': 'Hirschsprung disease (HSCR) is a multifactorial, non-mendelian disorder in which rare high-penetrance coding sequence mutations in the receptor tyrosine kinase RET contribute to risk in combination with mutations at other genes.', 'beginSection': 'abstract', 'document': 'http://www.ncbi.nlm.nih.gov/pubmed/15829955', 'endSection': 'abstract'}, {'offsetInBeginSection': 0, 'offsetInEndSection': 131, 'text': 'Differential contributions of rare and common, coding and noncoding Ret mutations to multifactorial Hirschsprung disease liability.', 'beginSection': 'title', 'document': 'http://www.ncbi.nlm.nih.gov/pubmed/20598273', 'endSection': 'title'}, {'offsetInBeginSection': 0, 'offsetInEndSection': 210, 'text': 'BACKGROUND: RET is the major gene associated to Hirschsprung disease (HSCR) with differential contributions of its rare and common, coding and noncoding mutations to the multifactorial nature of this pathology.', 'beginSection': 'abstract', 'document': 'http://www.ncbi.nlm.nih.gov/pubmed/21995290', 'endSection': 'abstract'}, {'offsetInBeginSection': 151, 'offsetInEndSection': 376, 'text': 'In the etiology of Hirschsprung disease various genes play a role; these are: RET, EDNRB, GDNF, EDN3 and SOX10, NTN3, ECE1, Mutations in these genes may result in dominant, recessive or multifactorial patterns of inheritance.', 'beginSection': 'abstract', 'document': 'http://www.ncbi.nlm.nih.gov/pubmed/15858239', 'endSection': 'abstract'}, {'offsetInBeginSection': 0, 'offsetInEndSection': 83, 'text': \"Chromosomal and related Mendelian syndromes associated with Hirschsprung's disease.\", 'beginSection': 'title', 'document': 'http://www.ncbi.nlm.nih.gov/pubmed/23001136', 'endSection': 'title'}, {'offsetInBeginSection': 715, 'offsetInEndSection': 818, 'text': \"The majority of the identified genes are related to Mendelian syndromic forms of Hirschsprung's disease\", 'beginSection': 'abstract', 'document': 'http://www.ncbi.nlm.nih.gov/pubmed/15617541', 'endSection': 'abstract'}, {'offsetInBeginSection': 151, 'offsetInEndSection': 375, 'text': 'In the etiology of Hirschsprung disease various genes play a role; these are: RET, EDNRB, GDNF, EDN3 and SOX10, NTN3, ECE1, Mutations in these genes may result in dominant, recessive or multifactorial patterns of inheritance', 'beginSection': 'abstract', 'document': 'http://www.ncbi.nlm.nih.gov/pubmed/15858239', 'endSection': 'abstract'}, {'offsetInBeginSection': 417, 'offsetInEndSection': 615, 'text': 'On the basis of a skewed sex-ratio (M/F = 4/1) and a risk to relatives much higher than the incidence in the general population, HSCR has long been regarded as a sex-modified multifactorial disorder', 'beginSection': 'abstract', 'document': 'http://www.ncbi.nlm.nih.gov/pubmed/8896569', 'endSection': 'abstract'}, {'offsetInBeginSection': 858, 'offsetInEndSection': 1012, 'text': 'The inheritance of Hirschsprung disease is generally consistent with sex-modified multifactorial inheritance with a lower threshold of expression in males', 'beginSection': 'abstract', 'document': 'http://www.ncbi.nlm.nih.gov/pubmed/6650562', 'endSection': 'abstract'}, {'offsetInBeginSection': 820, 'offsetInEndSection': 992, 'text': \"The non-Mendelian inheritance of sporadic non-syndromic Hirschsprung's disease proved to be complex; involvement of multiple loci was demonstrated in a multiplicative model\", 'beginSection': 'abstract', 'document': 'http://www.ncbi.nlm.nih.gov/pubmed/15617541', 'endSection': 'abstract'}]}}\n",
      "****************************************************************************************************\n"
     ]
    }
   ],
   "source": [
    "# 先查看数据结构\n",
    "print(\"数据集的列名:\")\n",
    "print(dataset_train.columns)\n",
    "\n",
    "# 查看第一条数据的内容\n",
    "print(\"\\n第一条数据的内容:\")\n",
    "print(dataset_train.iloc[0].to_dict())\n",
    "print(\"*\"*100)"
   ]
  },
  {
   "cell_type": "code",
   "execution_count": 7,
   "id": "64c5c615",
   "metadata": {},
   "outputs": [
    {
     "name": "stdout",
     "output_type": "stream",
     "text": [
      "处理完成！共处理了 2872 条数据\n",
      "数据已保存到 training12b_process.json\n",
      "\n",
      "处理后的数据示例（第一条）:\n",
      "{\n",
      "    \"question\": \"Is the protein Papilin secreted?\",\n",
      "    \"id\": \"54e25eaaae9738404b000017\",\n",
      "    \"type\": \"yesno\",\n",
      "    \"contexts\": [\n",
      "        \"Using expression analysis, we identify three genes that are transcriptionally regulated by HLH-2: the protocadherin cdh-3, and two genes encoding secreted extracellular matrix proteins, mig-6/papilin and him-4/hemicentin. \",\n",
      "        \"We found that mig-6 encodes long (MIG-6L) and short (MIG-6S) isoforms of the extracellular matrix protein papilin, each required for distinct aspects of DTC migration. Both MIG-6 isoforms have a predicted N-terminal papilin cassette\",\n",
      "        \"apilins are homologous, secreted extracellular matrix proteins which share a common order of protein domains. \",\n",
      "        \"The TSR superfamily is a diverse family of extracellular matrix and transmembrane proteins, many of which have functions related to regulating matrix organization, cell-cell interactions and cell guidance. This review samples some of the contemporary literature regarding TSR superfamily members (e.g. F-spondin, UNC-5, ADAMTS, papilin, and TRAP) where specific functions are assigned to the TSR domains.\",\n",
      "        \"Papilins are extracellular matrix proteins \",\n",
      "        \"Papilin is an extracellular matrix glycoprotein \",\n",
      "        \" Collagen IV, laminin, glutactin, papilin, and other extracellular matrix proteins were made primarily by hemocytes and were secreted into the medium. \",\n",
      "        \"A sulfated glycoprotein was isolated from the culture media of Drosophila Kc cells and named papilin.\"\n",
      "    ],\n",
      "    \"answers\": \"yes\"\n",
      "}\n"
     ]
    }
   ],
   "source": [
    "import json\n",
    "\n",
    "# 处理所有数据\n",
    "processed_data = []\n",
    "for _, row in dataset_train.iterrows():\n",
    "    question_data = row['questions']  # 获取questions字段下的数据\n",
    "    \n",
    "    # 只处理factoid和yesno类型的数据\n",
    "    if question_data['type'] in ['factoid', 'yesno']:\n",
    "        # 提取snippets中的text\n",
    "        contexts = [snippet['text'] for snippet in question_data['snippets']]\n",
    "        \n",
    "        processed_row = {\n",
    "            'question': question_data['body'],\n",
    "            'id': question_data['id'],\n",
    "            'type': question_data['type'],\n",
    "            'contexts': contexts,\n",
    "            'answers': question_data['exact_answer']\n",
    "        }\n",
    "        processed_data.append(processed_row)\n",
    "\n",
    "# 使用json模块保存，设置缩进为4个空格\n",
    "with open('training12b_process.json', 'w', encoding='utf-8') as f:\n",
    "    json.dump(processed_data, f, ensure_ascii=False, indent=4)\n",
    "\n",
    "print(f\"处理完成！共处理了 {len(processed_data)} 条数据\")\n",
    "print(\"数据已保存到 training12b_process.json\")\n",
    "\n",
    "# 显示前一条数据作为样例\n",
    "print(\"\\n处理后的数据示例（第一条）:\")\n",
    "print(json.dumps(processed_data[0], ensure_ascii=False, indent=4))"
   ]
  },
  {
   "cell_type": "code",
   "execution_count": 1,
   "id": "7fc1b2a1",
   "metadata": {},
   "outputs": [],
   "source": [
    "import pandas as pd\n",
    "\n",
    "# 读取JSON文件\n",
    "dataset_train = pd.read_json('training12b_process.json')"
   ]
  },
  {
   "cell_type": "code",
   "execution_count": 4,
   "id": "509648c9",
   "metadata": {},
   "outputs": [
    {
     "name": "stdout",
     "output_type": "stream",
     "text": [
      "处理完成！共处理了 2872 条数据\n",
      "数据已保存到 training12b_process_modified.json\n"
     ]
    }
   ],
   "source": [
    "import json\n",
    "\n",
    "# 读取JSON文件\n",
    "with open('training12b_process.json', 'r', encoding='utf-8') as f:\n",
    "    data = json.load(f)\n",
    "\n",
    "# 修改 answers 字段的格式\n",
    "for item in data:\n",
    "    if isinstance(item['answers'], str):\n",
    "        item['answers'] = [item['answers']]\n",
    "\n",
    "# 保存修改后的数据集\n",
    "with open('training12b_process_modified.json', 'w', encoding='utf-8') as f:\n",
    "    json.dump(data, f, ensure_ascii=False, indent=4)\n",
    "\n",
    "print(f\"处理完成！共处理了 {len(data)} 条数据\")\n",
    "print(\"数据已保存到 training12b_process_modified.json\")"
   ]
  },
  {
   "cell_type": "code",
   "execution_count": null,
   "id": "0cd0d7c0",
   "metadata": {},
   "outputs": [],
   "source": []
  }
 ],
 "metadata": {
  "kernelspec": {
   "display_name": "myenv",
   "language": "python",
   "name": "python3"
  },
  "language_info": {
   "codemirror_mode": {
    "name": "ipython",
    "version": 3
   },
   "file_extension": ".py",
   "mimetype": "text/x-python",
   "name": "python",
   "nbconvert_exporter": "python",
   "pygments_lexer": "ipython3",
   "version": "3.8.19"
  }
 },
 "nbformat": 4,
 "nbformat_minor": 5
}
