{
 "cells": [
  {
   "cell_type": "code",
   "execution_count": 1,
   "metadata": {},
   "outputs": [
    {
     "name": "stderr",
     "output_type": "stream",
     "text": [
      "  0%|          | 0/8 [00:00<?, ?it/s]"
     ]
    },
    {
     "data": {
      "application/vnd.jupyter.widget-view+json": {
       "model_id": "2f981e1faaed4d16bc2e484a252d28dc",
       "version_major": 2,
       "version_minor": 0
      },
      "text/plain": [
       "  0%|          | 0/171332 [00:00<?, ?it/s]"
      ]
     },
     "metadata": {},
     "output_type": "display_data"
    },
    {
     "name": "stderr",
     "output_type": "stream",
     "text": [
      " 12%|█▎        | 1/8 [00:01<00:08,  1.24s/it]"
     ]
    },
    {
     "name": "stdout",
     "output_type": "stream",
     "text": [
      "Success count: 500, success1 count: 14, fail count: 0\n"
     ]
    },
    {
     "data": {
      "application/vnd.jupyter.widget-view+json": {
       "model_id": "be2a972fd70f49ffb8ba7b0ce0acd7bf",
       "version_major": 2,
       "version_minor": 0
      },
      "text/plain": [
       "  0%|          | 0/5416593 [00:00<?, ?it/s]"
      ]
     },
     "metadata": {},
     "output_type": "display_data"
    },
    {
     "name": "stderr",
     "output_type": "stream",
     "text": [
      " 25%|██▌       | 2/8 [00:25<01:30, 15.06s/it]"
     ]
    },
    {
     "name": "stdout",
     "output_type": "stream",
     "text": [
      "Success count: 40, success1 count: 2, fail count: 460\n"
     ]
    },
    {
     "data": {
      "application/vnd.jupyter.widget-view+json": {
       "model_id": "47823f8b4ae74b599d337fb38a3382d1",
       "version_major": 2,
       "version_minor": 0
      },
      "text/plain": [
       "  0%|          | 0/4635922 [00:00<?, ?it/s]"
      ]
     },
     "metadata": {},
     "output_type": "display_data"
    },
    {
     "name": "stderr",
     "output_type": "stream",
     "text": [
      " 38%|███▊      | 3/8 [00:45<01:24, 16.91s/it]"
     ]
    },
    {
     "name": "stdout",
     "output_type": "stream",
     "text": [
      "Success count: 10, success1 count: 0, fail count: 490\n"
     ]
    },
    {
     "data": {
      "application/vnd.jupyter.widget-view+json": {
       "model_id": "ef9122bfcc564a1fbe69b5ad495dceae",
       "version_major": 2,
       "version_minor": 0
      },
      "text/plain": [
       "  0%|          | 0/5416568 [00:00<?, ?it/s]"
      ]
     },
     "metadata": {},
     "output_type": "display_data"
    },
    {
     "name": "stderr",
     "output_type": "stream",
     "text": [
      " 50%|█████     | 4/8 [01:08<01:18, 19.56s/it]"
     ]
    },
    {
     "name": "stdout",
     "output_type": "stream",
     "text": [
      "Success count: 0, success1 count: 0, fail count: 500\n"
     ]
    },
    {
     "data": {
      "application/vnd.jupyter.widget-view+json": {
       "model_id": "7a811ef4a55d4d8a93c2ad692cb62cba",
       "version_major": 2,
       "version_minor": 0
      },
      "text/plain": [
       "  0%|          | 0/5233329 [00:00<?, ?it/s]"
      ]
     },
     "metadata": {},
     "output_type": "display_data"
    },
    {
     "name": "stderr",
     "output_type": "stream",
     "text": [
      " 62%|██████▎   | 5/8 [01:29<01:00, 20.08s/it]"
     ]
    },
    {
     "name": "stdout",
     "output_type": "stream",
     "text": [
      "Success count: 0, success1 count: 0, fail count: 500\n"
     ]
    },
    {
     "data": {
      "application/vnd.jupyter.widget-view+json": {
       "model_id": "ff44a60f02af4e0ba1aee3a932f4f27b",
       "version_major": 2,
       "version_minor": 0
      },
      "text/plain": [
       "  0%|          | 0/3633 [00:00<?, ?it/s]"
      ]
     },
     "metadata": {},
     "output_type": "display_data"
    },
    {
     "name": "stderr",
     "output_type": "stream",
     "text": [
      " 75%|███████▌  | 6/8 [01:29<00:26, 13.30s/it]"
     ]
    },
    {
     "name": "stdout",
     "output_type": "stream",
     "text": [
      "Success count: 10, success1 count: 0, fail count: 490\n"
     ]
    },
    {
     "data": {
      "application/vnd.jupyter.widget-view+json": {
       "model_id": "92772337ae234d8da1214b98e95d2feb",
       "version_major": 2,
       "version_minor": 0
      },
      "text/plain": [
       "  0%|          | 0/2681468 [00:00<?, ?it/s]"
      ]
     },
     "metadata": {},
     "output_type": "display_data"
    },
    {
     "name": "stderr",
     "output_type": "stream",
     "text": [
      " 88%|████████▊ | 7/8 [01:40<00:12, 12.48s/it]"
     ]
    },
    {
     "name": "stdout",
     "output_type": "stream",
     "text": [
      "Success count: 10, success1 count: 0, fail count: 490\n"
     ]
    },
    {
     "data": {
      "application/vnd.jupyter.widget-view+json": {
       "model_id": "7f427857b27040418360af2f4954b490",
       "version_major": 2,
       "version_minor": 0
      },
      "text/plain": [
       "  0%|          | 0/25657 [00:00<?, ?it/s]"
      ]
     },
     "metadata": {},
     "output_type": "display_data"
    },
    {
     "name": "stderr",
     "output_type": "stream",
     "text": [
      "100%|██████████| 8/8 [01:41<00:00, 12.70s/it]"
     ]
    },
    {
     "name": "stdout",
     "output_type": "stream",
     "text": [
      "Success count: 0, success1 count: 0, fail count: 500\n",
      "(24, 3, 8)\n"
     ]
    },
    {
     "name": "stderr",
     "output_type": "stream",
     "text": [
      "\n"
     ]
    },
    {
     "data": {
      "text/html": [
       "<div>\n",
       "<style scoped>\n",
       "    .dataframe tbody tr th:only-of-type {\n",
       "        vertical-align: middle;\n",
       "    }\n",
       "\n",
       "    .dataframe tbody tr th {\n",
       "        vertical-align: top;\n",
       "    }\n",
       "\n",
       "    .dataframe thead th {\n",
       "        text-align: right;\n",
       "    }\n",
       "</style>\n",
       "<table border=\"1\" class=\"dataframe\">\n",
       "  <thead>\n",
       "    <tr style=\"text-align: right;\">\n",
       "      <th></th>\n",
       "      <th>rank</th>\n",
       "      <th>entropy</th>\n",
       "      <th>rerank</th>\n",
       "    </tr>\n",
       "  </thead>\n",
       "  <tbody>\n",
       "    <tr>\n",
       "      <th>MAP@5</th>\n",
       "      <td>0.283144</td>\n",
       "      <td>0.065489</td>\n",
       "      <td>0.283144</td>\n",
       "    </tr>\n",
       "    <tr>\n",
       "      <th>MRR@5</th>\n",
       "      <td>0.128754</td>\n",
       "      <td>0.109799</td>\n",
       "      <td>0.128754</td>\n",
       "    </tr>\n",
       "    <tr>\n",
       "      <th>NDCG@5</th>\n",
       "      <td>0.459321</td>\n",
       "      <td>0.217816</td>\n",
       "      <td>0.459321</td>\n",
       "    </tr>\n",
       "    <tr>\n",
       "      <th>P@5</th>\n",
       "      <td>0.278500</td>\n",
       "      <td>0.200887</td>\n",
       "      <td>0.278500</td>\n",
       "    </tr>\n",
       "    <tr>\n",
       "      <th>Recall@5</th>\n",
       "      <td>0.346438</td>\n",
       "      <td>0.146546</td>\n",
       "      <td>0.346438</td>\n",
       "    </tr>\n",
       "    <tr>\n",
       "      <th>R_cap@5</th>\n",
       "      <td>0.087000</td>\n",
       "      <td>0.077000</td>\n",
       "      <td>0.087000</td>\n",
       "    </tr>\n",
       "  </tbody>\n",
       "</table>\n",
       "</div>"
      ],
      "text/plain": [
       "              rank   entropy    rerank\n",
       "MAP@5     0.283144  0.065489  0.283144\n",
       "MRR@5     0.128754  0.109799  0.128754\n",
       "NDCG@5    0.459321  0.217816  0.459321\n",
       "P@5       0.278500  0.200887  0.278500\n",
       "Recall@5  0.346438  0.146546  0.346438\n",
       "R_cap@5   0.087000  0.077000  0.087000"
      ]
     },
     "execution_count": 1,
     "metadata": {},
     "output_type": "execute_result"
    }
   ],
   "source": [
    "import gc\n",
    "import os\n",
    "import pickle\n",
    "import jsonlines\n",
    "import torch\n",
    "from tqdm import tqdm\n",
    "from collections import defaultdict\n",
    "import argparse\n",
    "from core.models.entailment import EntailmentDeberta\n",
    "from core.data.data_utils import load_ds_from_json\n",
    "from rank_eval import eval_beir_rerank_result\n",
    "\n",
    "def load_pickle_file(file_path):\n",
    "    with open(file_path, 'rb') as f:\n",
    "        data = pickle.load(f)\n",
    "    return data\n",
    "\n",
    "def save_pickle_file(file_path, data):\n",
    "    with open(file_path, 'wb') as f:\n",
    "        pickle.dump(data, f)\n",
    "\n",
    "\n",
    "\n",
    "def run_eval(dataset_names, size_name=\"small\"):\n",
    "    # BEIR_DATASET_NAMES = [\"trec-covid\", \"climate-fever\", \"dbpedia-entity\", \"fever\", \"fiqa\", \"hotpotqa\", \"msmarco\",  \"nfcorpus\", \"nq\", \"scidocs\", \"scifact\"]\n",
    "    # SIZE_NAME = \"toy\"\n",
    "    # SIZE_NAME = \"small\"\n",
    "\n",
    "    all_scores = {}\n",
    "    for dataset_name in tqdm(dataset_names):\n",
    "        try:\n",
    "            dataset_path = f'/home/song/dataset/beir/{dataset_name}'\n",
    "            rank_result_path = f'dataset/rank/{dataset_name}/{dataset_name}-rank10-{size_name}.tsv'\n",
    "            entropy_result_path = f'output/rerank/{dataset_name}/entropy-{size_name}.tsv'\n",
    "            all_scores[dataset_name] = eval_beir_rerank_result(rank_result_path, entropy_result_path, dataset_path, dataset_name, k_values=[1,3,5,10])\n",
    "        except Exception as e:\n",
    "            print(f\"Error: {e}\")\n",
    "    # Save all_scores\n",
    "    save_pickle_file(f\"output/rerank/entropy_scores_{size_name}.pkl\", all_scores)\n",
    "    return all_scores\n",
    "# all_scores = load_pickle_file('output/rerank/entropy_scores_small.pkl')\n",
    "\n",
    "def calc_avg_score(all_scores, dataset_names, methods, all_metrics):\n",
    "    # 利用numpy，将all_scores建立高维数组，[指标][方法][数据集]\n",
    "    import numpy as np\n",
    "    score_array = np.zeros((len(all_metrics), len(methods), len(dataset_names)))\n",
    "    for i, dataset_name in enumerate(dataset_names):\n",
    "        for j, method in enumerate(methods):\n",
    "            for k, (metric1, metric2) in enumerate(all_metrics):\n",
    "                try:\n",
    "                    score_array[k, j, i] = all_scores[dataset_name][method][metric1][metric2]\n",
    "                except Exception as e:\n",
    "                    pass\n",
    "                    # print(e)\n",
    "                    # print(f\"Error in {dataset_name}\")\n",
    "    print(score_array.shape)\n",
    "\n",
    "    # 将score_array转换为DataFrame，将方法名称和指标名称（all_metrics的第二个元素）作为行列索引，数据集这列取平均值\n",
    "    import pandas as pd\n",
    "    # df = pd.DataFrame(score_array.mean(axis=-1), index=all_metrics, columns=methods)\n",
    "    df = pd.DataFrame(score_array.mean(axis=-1), index=[m[1] for m in all_metrics], columns=methods)\n",
    "    return df\n",
    "\n",
    "\n",
    "dataset_names = [\"trec-covid\", \"climate-fever\", \"dbpedia-entity\", \"fever\", \"hotpotqa\", \"nfcorpus\", \"nq\", \"scidocs\"]\n",
    "methods = [\"rank\", \"entropy\", \"rerank\"]\n",
    "all_metrics = [('map', 'MAP@1'), ('map', 'MAP@10'), ('map', 'MAP@3'), ('map', 'MAP@5'), ('mrr', 'MRR@1'), ('mrr', 'MRR@10'), ('mrr', 'MRR@3'), ('mrr', 'MRR@5'), ('ndcg', 'NDCG@1'), ('ndcg', 'NDCG@10'), ('ndcg', 'NDCG@3'), ('ndcg', 'NDCG@5'), ('precision', 'P@1'), ('precision', 'P@10'), ('precision', 'P@3'), ('precision', 'P@5'), ('recall', 'Recall@1'), ('recall', 'Recall@10'), ('recall', 'Recall@3'), ('recall', 'Recall@5'), ('recall_cap', 'R_cap@1'), ('recall_cap', 'R_cap@10'), ('recall_cap', 'R_cap@3'), ('recall_cap', 'R_cap@5')]\n",
    "\n",
    "\n",
    "all_scores = run_eval(dataset_names)\n",
    "df = calc_avg_score(all_scores, dataset_names, methods, all_metrics)\n",
    "# 过滤掉不需要的指标，只保留@5结尾的\n",
    "df[df.index.str.endswith('@5')]"
   ]
  },
  {
   "cell_type": "code",
   "execution_count": 2,
   "metadata": {},
   "outputs": [
    {
     "data": {
      "text/html": [
       "<div>\n",
       "<style scoped>\n",
       "    .dataframe tbody tr th:only-of-type {\n",
       "        vertical-align: middle;\n",
       "    }\n",
       "\n",
       "    .dataframe tbody tr th {\n",
       "        vertical-align: top;\n",
       "    }\n",
       "\n",
       "    .dataframe thead th {\n",
       "        text-align: right;\n",
       "    }\n",
       "</style>\n",
       "<table border=\"1\" class=\"dataframe\">\n",
       "  <thead>\n",
       "    <tr style=\"text-align: right;\">\n",
       "      <th></th>\n",
       "      <th>rank</th>\n",
       "      <th>entropy</th>\n",
       "      <th>rerank</th>\n",
       "    </tr>\n",
       "  </thead>\n",
       "  <tbody>\n",
       "    <tr>\n",
       "      <th>MAP@10</th>\n",
       "      <td>0.295324</td>\n",
       "      <td>0.105758</td>\n",
       "      <td>0.295324</td>\n",
       "    </tr>\n",
       "    <tr>\n",
       "      <th>MRR@10</th>\n",
       "      <td>0.130358</td>\n",
       "      <td>0.112075</td>\n",
       "      <td>0.130358</td>\n",
       "    </tr>\n",
       "    <tr>\n",
       "      <th>NDCG@10</th>\n",
       "      <td>0.460880</td>\n",
       "      <td>0.306845</td>\n",
       "      <td>0.460880</td>\n",
       "    </tr>\n",
       "    <tr>\n",
       "      <th>P@10</th>\n",
       "      <td>0.205250</td>\n",
       "      <td>0.217044</td>\n",
       "      <td>0.205250</td>\n",
       "    </tr>\n",
       "    <tr>\n",
       "      <th>Recall@10</th>\n",
       "      <td>0.391511</td>\n",
       "      <td>0.399086</td>\n",
       "      <td>0.391511</td>\n",
       "    </tr>\n",
       "    <tr>\n",
       "      <th>R_cap@10</th>\n",
       "      <td>0.078000</td>\n",
       "      <td>0.078000</td>\n",
       "      <td>0.078000</td>\n",
       "    </tr>\n",
       "  </tbody>\n",
       "</table>\n",
       "</div>"
      ],
      "text/plain": [
       "               rank   entropy    rerank\n",
       "MAP@10     0.295324  0.105758  0.295324\n",
       "MRR@10     0.130358  0.112075  0.130358\n",
       "NDCG@10    0.460880  0.306845  0.460880\n",
       "P@10       0.205250  0.217044  0.205250\n",
       "Recall@10  0.391511  0.399086  0.391511\n",
       "R_cap@10   0.078000  0.078000  0.078000"
      ]
     },
     "execution_count": 2,
     "metadata": {},
     "output_type": "execute_result"
    }
   ],
   "source": [
    "# 过滤掉不需要的指标，只保留@10结尾的\n",
    "df[df.index.str.endswith('@10')]"
   ]
  },
  {
   "cell_type": "code",
   "execution_count": 3,
   "metadata": {},
   "outputs": [
    {
     "data": {
      "text/html": [
       "<div>\n",
       "<style scoped>\n",
       "    .dataframe tbody tr th:only-of-type {\n",
       "        vertical-align: middle;\n",
       "    }\n",
       "\n",
       "    .dataframe tbody tr th {\n",
       "        vertical-align: top;\n",
       "    }\n",
       "\n",
       "    .dataframe thead th {\n",
       "        text-align: right;\n",
       "    }\n",
       "</style>\n",
       "<table border=\"1\" class=\"dataframe\">\n",
       "  <thead>\n",
       "    <tr style=\"text-align: right;\">\n",
       "      <th></th>\n",
       "      <th>rank</th>\n",
       "      <th>entropy</th>\n",
       "      <th>rerank</th>\n",
       "    </tr>\n",
       "  </thead>\n",
       "  <tbody>\n",
       "    <tr>\n",
       "      <th>MAP@1</th>\n",
       "      <td>0.208441</td>\n",
       "      <td>0.014234</td>\n",
       "      <td>0.208441</td>\n",
       "    </tr>\n",
       "    <tr>\n",
       "      <th>MRR@1</th>\n",
       "      <td>0.115706</td>\n",
       "      <td>0.091201</td>\n",
       "      <td>0.115706</td>\n",
       "    </tr>\n",
       "    <tr>\n",
       "      <th>NDCG@1</th>\n",
       "      <td>0.486250</td>\n",
       "      <td>0.143776</td>\n",
       "      <td>0.486250</td>\n",
       "    </tr>\n",
       "    <tr>\n",
       "      <th>P@1</th>\n",
       "      <td>0.512500</td>\n",
       "      <td>0.159415</td>\n",
       "      <td>0.512500</td>\n",
       "    </tr>\n",
       "    <tr>\n",
       "      <th>Recall@1</th>\n",
       "      <td>0.208217</td>\n",
       "      <td>0.014059</td>\n",
       "      <td>0.208217</td>\n",
       "    </tr>\n",
       "    <tr>\n",
       "      <th>R_cap@1</th>\n",
       "      <td>0.092500</td>\n",
       "      <td>0.082500</td>\n",
       "      <td>0.092500</td>\n",
       "    </tr>\n",
       "  </tbody>\n",
       "</table>\n",
       "</div>"
      ],
      "text/plain": [
       "              rank   entropy    rerank\n",
       "MAP@1     0.208441  0.014234  0.208441\n",
       "MRR@1     0.115706  0.091201  0.115706\n",
       "NDCG@1    0.486250  0.143776  0.486250\n",
       "P@1       0.512500  0.159415  0.512500\n",
       "Recall@1  0.208217  0.014059  0.208217\n",
       "R_cap@1   0.092500  0.082500  0.092500"
      ]
     },
     "execution_count": 3,
     "metadata": {},
     "output_type": "execute_result"
    }
   ],
   "source": [
    "# 过滤掉不需要的指标，只保留@1结尾的\n",
    "df[df.index.str.endswith('@1')]"
   ]
  },
  {
   "cell_type": "code",
   "execution_count": 4,
   "metadata": {},
   "outputs": [
    {
     "data": {
      "text/html": [
       "<div>\n",
       "<style scoped>\n",
       "    .dataframe tbody tr th:only-of-type {\n",
       "        vertical-align: middle;\n",
       "    }\n",
       "\n",
       "    .dataframe tbody tr th {\n",
       "        vertical-align: top;\n",
       "    }\n",
       "\n",
       "    .dataframe thead th {\n",
       "        text-align: right;\n",
       "    }\n",
       "</style>\n",
       "<table border=\"1\" class=\"dataframe\">\n",
       "  <thead>\n",
       "    <tr style=\"text-align: right;\">\n",
       "      <th></th>\n",
       "      <th>rank</th>\n",
       "      <th>entropy</th>\n",
       "      <th>rerank</th>\n",
       "    </tr>\n",
       "  </thead>\n",
       "  <tbody>\n",
       "    <tr>\n",
       "      <th>MAP@3</th>\n",
       "      <td>0.267944</td>\n",
       "      <td>0.051774</td>\n",
       "      <td>0.267944</td>\n",
       "    </tr>\n",
       "    <tr>\n",
       "      <th>MRR@3</th>\n",
       "      <td>0.127010</td>\n",
       "      <td>0.106375</td>\n",
       "      <td>0.127010</td>\n",
       "    </tr>\n",
       "    <tr>\n",
       "      <th>NDCG@3</th>\n",
       "      <td>0.461950</td>\n",
       "      <td>0.199419</td>\n",
       "      <td>0.461950</td>\n",
       "    </tr>\n",
       "    <tr>\n",
       "      <th>P@3</th>\n",
       "      <td>0.345834</td>\n",
       "      <td>0.205226</td>\n",
       "      <td>0.345834</td>\n",
       "    </tr>\n",
       "    <tr>\n",
       "      <th>Recall@3</th>\n",
       "      <td>0.306573</td>\n",
       "      <td>0.095734</td>\n",
       "      <td>0.306573</td>\n",
       "    </tr>\n",
       "    <tr>\n",
       "      <th>R_cap@3</th>\n",
       "      <td>0.088334</td>\n",
       "      <td>0.078334</td>\n",
       "      <td>0.088334</td>\n",
       "    </tr>\n",
       "  </tbody>\n",
       "</table>\n",
       "</div>"
      ],
      "text/plain": [
       "              rank   entropy    rerank\n",
       "MAP@3     0.267944  0.051774  0.267944\n",
       "MRR@3     0.127010  0.106375  0.127010\n",
       "NDCG@3    0.461950  0.199419  0.461950\n",
       "P@3       0.345834  0.205226  0.345834\n",
       "Recall@3  0.306573  0.095734  0.306573\n",
       "R_cap@3   0.088334  0.078334  0.088334"
      ]
     },
     "execution_count": 4,
     "metadata": {},
     "output_type": "execute_result"
    }
   ],
   "source": [
    "# 过滤掉不需要的指标，只保留@3结尾的\n",
    "df[df.index.str.endswith('@3')]"
   ]
  }
 ],
 "metadata": {
  "kernelspec": {
   "display_name": "frag",
   "language": "python",
   "name": "python3"
  },
  "language_info": {
   "codemirror_mode": {
    "name": "ipython",
    "version": 3
   },
   "file_extension": ".py",
   "mimetype": "text/x-python",
   "name": "python",
   "nbconvert_exporter": "python",
   "pygments_lexer": "ipython3",
   "version": "3.11.5"
  }
 },
 "nbformat": 4,
 "nbformat_minor": 2
}
