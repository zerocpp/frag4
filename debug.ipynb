{
 "cells": [
  {
   "cell_type": "code",
   "execution_count": null,
   "metadata": {},
   "outputs": [
    {
     "name": "stdout",
     "output_type": "stream",
     "text": [
      "args: Namespace(root_dir='.')\n",
      "Preparing squad train Qwen: 100%|████████| 10000/10000 [00:41<00:00, 243.10it/s]\n",
      "Preparing squad train meta-llama:  12%|▎  | 1247/10000 [00:07<00:49, 175.84it/s]"
     ]
    }
   ],
   "source": [
    "!python prepare_data.py"
   ]
  },
  {
   "cell_type": "code",
   "execution_count": null,
   "metadata": {},
   "outputs": [],
   "source": [
    "'''\n",
    "测试数据准备\n",
    "'''\n",
    "\n",
    "import os\n",
    "import pickle\n",
    "from tqdm import tqdm\n",
    "from collections import defaultdict\n",
    "import argparse\n",
    "from core.models.entailment import EntailmentDeberta\n",
    "from core.data.data_utils import load_ds_from_json\n",
    "\n",
    "def load_pickle_file(file_path):\n",
    "    with open(file_path, 'rb') as f:\n",
    "        data = pickle.load(f)\n",
    "    return data\n",
    "\n",
    "def save_pickle_file(file_path, data):\n",
    "    with open(file_path, 'wb') as f:\n",
    "        pickle.dump(data, f)\n"
   ]
  },
  {
   "cell_type": "code",
   "execution_count": null,
   "metadata": {},
   "outputs": [
    {
     "name": "stdout",
     "output_type": "stream",
     "text": [
      "10000\n",
      "dict_keys(['example', 'golden', 'irrelevant', 'without'])\n"
     ]
    }
   ],
   "source": [
    "result = load_pickle_file(\"output/result/Qwen/Qwen2.5-7B-Instruct/squad_train.pkl\")\n",
    "print(len(result[\"id\"]))\n",
    "print(result[\"data\"][result[\"id\"][0]].keys())"
   ]
  },
  {
   "cell_type": "code",
   "execution_count": null,
   "metadata": {},
   "outputs": [
    {
     "data": {
      "text/plain": [
       "dict_keys(['example', 'golden', 'irrelevant', 'without'])"
      ]
     },
     "execution_count": 7,
     "metadata": {},
     "output_type": "execute_result"
    }
   ],
   "source": [
    "d = result[\"data\"][result[\"id\"][0]]\n",
    "d.keys()"
   ]
  },
  {
   "cell_type": "code",
   "execution_count": null,
   "metadata": {},
   "outputs": [
    {
     "data": {
      "text/plain": [
       "defaultdict(dict,\n",
       "            {'example': {'id': '57313c0a497a881900248cae',\n",
       "              'question': 'How were pigments like red lake created?',\n",
       "              'context': 'Unlike vermilion or red ochre, made from minerals, red lake pigments are made by mixing organic dyes, made from insects or plants, with white chalk or alum. Red lac was made from the gum lac, the dark red resinous substance secreted by various scale insects, particularly the Laccifer lacca from India. Carmine lake was made from the cochineal insect from Central and South America, Kermes lake came from a different scale insect, kermes vermilio, which thrived on oak trees around the Mediterranean. Other red lakes were made from the rose madder plant and from the brazilwood tree.',\n",
       "              'answers': ['mixing organic dyes'],\n",
       "              'irrelevant_id': '57268318708984140094c88b',\n",
       "              'irrelevant_context': 'One of the paper\\'s best known front pages, published on 4 May 1982, commemorated the torpedoing of the Argentine ship the General Belgrano by running the story under the headline \"GOTCHA\". At MacKenzie\\'s insistence, and against the wishes of Murdoch (the mogul was present because almost all the journalists were on strike), the headline was changed for later editions after the extent of Argentinian casualties became known. John Shirley, a reporter for The Sunday Times, witnessed copies of this edition of The Sun being thrown overboard by sailors and marines on HMS Fearless.'},\n",
       "             'golden': {'greedy': {'text': 'Pigments like red lake were created by mixing organic dyes from insects or plants with white chalk or alum.',\n",
       "               'slt_emb': tensor([[[ 1.2268e-02,  5.9509e-03,  1.5503e-02,  ...,  1.1108e-02,\n",
       "                         -1.2878e-02,  2.8076e-02]],\n",
       "               \n",
       "                       [[ 8.1787e-03,  1.0205e-01, -1.6968e-02,  ..., -5.1758e-02,\n",
       "                          5.5664e-02,  3.8330e-02]],\n",
       "               \n",
       "                       [[-3.1250e-02, -6.7383e-02, -3.3203e-02,  ..., -3.7842e-03,\n",
       "                          8.8867e-02, -1.1230e-02]],\n",
       "               \n",
       "                       ...,\n",
       "               \n",
       "                       [[ 6.2812e+00,  3.3438e+00, -1.1797e+00,  ..., -2.7344e-02,\n",
       "                         -1.8359e+00, -2.5156e+00]],\n",
       "               \n",
       "                       [[ 7.0625e+00,  2.7812e+00, -3.4375e-01,  ...,  2.6562e+00,\n",
       "                         -6.0000e+00, -1.1406e+00]],\n",
       "               \n",
       "                       [[ 4.6250e+00,  2.2344e+00, -1.8359e-01,  ..., -1.9922e+00,\n",
       "                         -1.2266e+00, -1.2656e+00]]], dtype=torch.bfloat16),\n",
       "               'tbg_emb': tensor([[[-3.9673e-03, -3.2654e-03, -8.0566e-03,  ..., -6.4468e-04,\n",
       "                         -2.6855e-03,  5.8594e-03]],\n",
       "               \n",
       "                       [[-1.7188e-01, -4.4434e-02, -6.4453e-02,  ..., -1.3867e-01,\n",
       "                         -4.7852e-02, -1.4648e-01]],\n",
       "               \n",
       "                       [[-6.2500e-02, -9.8145e-02, -5.8594e-03,  ..., -2.0117e-01,\n",
       "                         -4.1016e-02,  1.5869e-02]],\n",
       "               \n",
       "                       ...,\n",
       "               \n",
       "                       [[ 2.2344e+00, -3.6875e+00,  5.0625e+00,  ..., -3.9375e+00,\n",
       "                          3.1719e+00,  1.6719e+00]],\n",
       "               \n",
       "                       [[ 3.9844e+00, -3.0938e+00,  9.0000e+00,  ..., -7.5625e+00,\n",
       "                          7.0000e+00,  1.0303e-01]],\n",
       "               \n",
       "                       [[ 1.3828e+00,  1.9434e-01,  5.4062e+00,  ..., -5.4375e+00,\n",
       "                          5.6875e+00,  8.9844e-01]]], dtype=torch.bfloat16)},\n",
       "              'sample': ['Pigments like red lake were created by mixing organic dyes from insects or plants with white chalk or alum.',\n",
       "               'Pigments like red lake were created by mixing organic dyes from insects or plants with white chalk or alum.',\n",
       "               'Red lake pigments were created by mixing organic dyes, derived from insects or plants, with white chalk or alum. Different types, such as red lac, carmine lake, and kermes lake, came from specific sources like gum lac,',\n",
       "               'Pigments like red lake were created by mixing organic dyes, derived from insects or plants, with white chalk or alum.',\n",
       "               'Pigments like red lake were created by mixing organic dyes from insects or plants with white chalk or alum.',\n",
       "               'Pigments like red lake were created by mixing organic dyes, derived from insects or plants, with white chalk or alum. Specific examples include gum lac for red lac, cochineal for carmine lake, kermes vermilio for kerm',\n",
       "               'Pigments like red lake were created by mixing organic dyes from insects or plants with white chalk or alum.',\n",
       "               'Red lake pigments were created by mixing organic dyes from insects or plants with white chalk or alum. Specific examples include red lac from gum lac of scale insects, carmine lake from cochineal insects, kermes lake from kermes',\n",
       "               'Red lake pigments were created by mixing organic dyes from insects or plants with white chalk or alum.',\n",
       "               'Pigments like red lake were created by mixing organic dyes from insects or plants with white chalk or alum.'],\n",
       "              'cluster_ids': [0, 0, 0, 0, 0, 0, 0, 0, 0, 0]},\n",
       "             'irrelevant': {'greedy': {'text': 'Red lake pigments were created by grinding dyestuffs like cochineal or kermes with a binding medium such as gum arabic.',\n",
       "               'slt_emb': tensor([[[ 3.7079e-03,  8.4839e-03, -2.1729e-02,  ..., -1.8677e-02,\n",
       "                         -8.1253e-04,  2.0630e-02]],\n",
       "               \n",
       "                       [[-5.8594e-02,  4.7656e-01, -8.4961e-02,  ..., -3.7891e-01,\n",
       "                          3.1641e-01, -1.0437e-02]],\n",
       "               \n",
       "                       [[-9.7656e-02,  4.5508e-01, -9.6436e-03,  ..., -4.4727e-01,\n",
       "                          8.5938e-02, -1.3794e-02]],\n",
       "               \n",
       "                       ...,\n",
       "               \n",
       "                       [[ 5.8594e-01, -2.4844e+00, -4.5625e+00,  ..., -3.3750e+00,\n",
       "                         -1.0156e+00, -3.7188e+00]],\n",
       "               \n",
       "                       [[-4.3359e-01, -7.8438e+00, -5.7188e+00,  ..., -9.5312e-01,\n",
       "                         -9.1406e-01, -3.5000e+00]],\n",
       "               \n",
       "                       [[-1.6875e+00, -4.8125e+00, -3.1719e+00,  ...,  3.1982e-02,\n",
       "                          1.0156e+00, -2.7500e+00]]], dtype=torch.bfloat16),\n",
       "               'tbg_emb': tensor([[[-3.9673e-03, -3.2654e-03, -8.0566e-03,  ..., -6.4468e-04,\n",
       "                         -2.6855e-03,  5.8594e-03]],\n",
       "               \n",
       "                       [[-1.6211e-01, -4.4434e-02, -3.5156e-02,  ..., -1.2305e-01,\n",
       "                         -4.4189e-02, -1.3574e-01]],\n",
       "               \n",
       "                       [[-4.1504e-02, -6.9336e-02,  2.5635e-02,  ..., -1.7188e-01,\n",
       "                         -3.9551e-02,  1.4893e-02]],\n",
       "               \n",
       "                       ...,\n",
       "               \n",
       "                       [[ 1.0625e+01,  6.2500e-02,  4.1875e+00,  ..., -2.5625e+00,\n",
       "                          4.8125e+00,  6.6797e-01]],\n",
       "               \n",
       "                       [[ 1.2000e+01,  5.3125e+00,  1.0562e+01,  ..., -2.2188e+00,\n",
       "                          4.0312e+00, -1.6250e+00]],\n",
       "               \n",
       "                       [[ 5.2188e+00,  4.7812e+00,  7.9375e+00,  ..., -2.2500e+00,\n",
       "                          4.2500e+00, -1.1094e+00]]], dtype=torch.bfloat16)},\n",
       "              'sample': ['Red lake pigments were created by grinding dyestuffs like cochineal or vermilion with a binder such as gum arabic or egg yolk. These mixtures were then applied to a substrate or used in paints.',\n",
       "               'Pigments like red lake were created by grinding cochineal or other dye-stuffs with a binding medium such as gum arabic.',\n",
       "               'Pigments like red lake were created by grinding organic colorants, often kermes or cochineal, with a binder such as gum arabic or oil.',\n",
       "               'Pigments like red lake were created by grinding organic coloring matter, such as dye or pigment extracted from plants or insects, with a binding medium, typically a drying oil or gum.',\n",
       "               'Red lake pigments were made by grinding dyestuff, typically kermes or cochineal, with a binding medium such as gum arabic.',\n",
       "               'Pigments like red lake were created by grinding organic dyes or inorganic materials with a binding medium such as gum arabic or egg yolk. The resulting mixture was then applied to a surface to create color.',\n",
       "               'Red lake pigments were created by crushing and grinding organic materials, such as insects or plants, with a binding medium like gum arabic or oil.',\n",
       "               'Pigments like red lake were created by grinding dry pigments like cochineal or vermilion with a binder like gum arabic or egg yolk. The process involved mixing and drying to achieve the desired color and consistency.',\n",
       "               'Pigments like red lake were created by grinding dye stuffs, such as kermes or cochineal, with a binder, typically a drying oil or gum. This process formed a colored pigment that could be used in various applications including paper printing',\n",
       "               'Red lake pigments were made by crushing and grinding lapis lazuli or other minerals, then sizing them with gum arabic or another binder.'],\n",
       "              'cluster_ids': [0, 0, 1, 1, 1, 2, 3, 4, 5, 6]},\n",
       "             'without': {'greedy': {'text': 'Red lake pigments were created by mixing an organic coloring matter with a white pigment, typically calcium white or lead white.',\n",
       "               'slt_emb': tensor([[[-1.6113e-02, -5.4016e-03, -2.7466e-02,  ...,  3.5553e-03,\n",
       "                          7.3242e-04, -6.4697e-03]],\n",
       "               \n",
       "                       [[ 1.0547e-01,  6.1523e-02, -7.3242e-04,  ..., -2.2852e-01,\n",
       "                          2.3340e-01, -3.0518e-02]],\n",
       "               \n",
       "                       [[ 1.9824e-01, -2.3560e-02, -1.2207e-01,  ..., -3.6328e-01,\n",
       "                          3.0664e-01, -2.0605e-01]],\n",
       "               \n",
       "                       ...,\n",
       "               \n",
       "                       [[ 3.0781e+00, -2.8125e+00,  1.1328e+00,  ..., -3.2812e+00,\n",
       "                         -1.7266e+00,  3.2188e+00]],\n",
       "               \n",
       "                       [[-2.1250e+00,  8.1250e+00,  2.8438e+00,  ..., -1.1250e+00,\n",
       "                         -1.3750e+00,  2.6250e+00]],\n",
       "               \n",
       "                       [[ 3.6406e+00,  2.7812e+00,  1.9844e+00,  ..., -4.1406e-01,\n",
       "                         -9.2969e-01,  8.9844e-01]]], dtype=torch.bfloat16),\n",
       "               'tbg_emb': tensor([[[-3.9673e-03, -3.2654e-03, -8.0566e-03,  ..., -6.4468e-04,\n",
       "                         -2.6855e-03,  5.8594e-03]],\n",
       "               \n",
       "                       [[-2.1191e-01, -9.8633e-02, -2.2461e-02,  ..., -1.2305e-01,\n",
       "                         -5.7373e-02, -1.4062e-01]],\n",
       "               \n",
       "                       [[-1.0840e-01, -2.5391e-01, -5.0049e-03,  ..., -1.9727e-01,\n",
       "                          2.0508e-02,  6.5430e-02]],\n",
       "               \n",
       "                       ...,\n",
       "               \n",
       "                       [[ 8.6875e+00, -1.3047e+00,  6.6875e+00,  ..., -1.7812e+00,\n",
       "                          5.5312e+00,  2.6094e+00]],\n",
       "               \n",
       "                       [[ 1.0938e+01, -1.0625e+00,  1.3312e+01,  ..., -1.3906e+00,\n",
       "                          6.5312e+00,  1.6016e+00]],\n",
       "               \n",
       "                       [[ 4.7188e+00,  1.5781e+00,  8.5000e+00,  ..., -2.4531e+00,\n",
       "                          5.4062e+00,  9.0234e-01]]], dtype=torch.bfloat16)},\n",
       "              'sample': ['Pigments like red lake were created by mixing crushed mineral or organic substances with a binding medium, such as gum arabic.',\n",
       "               'Red lake pigments were made by grinding dyestuffs like kermes or cochineal with a binding medium, such as oil, egg yolk, or gum arabic.',\n",
       "               'Red lake pigments were made by grinding dyestuffs like kermes or cochineal with a binding medium, such as oil or gum.',\n",
       "               'Red lake pigments were created by mixing organic coloring matter with a white pigment or binder.',\n",
       "               'Pigments like red lake were created by mixing organic colorants, such as cochineal or kermes, with inorganic substances like chalk or white lead. The mixture was then ground and bound with a medium.',\n",
       "               'Red lake pigments were created by mixing organic coloring matters with white lead or another white pigment.',\n",
       "               'Pigments like red lake were created by mixing organic colorants, such as kermes or cochineal, with a calcium compound.',\n",
       "               'Red lake pigments were created by mixing pigments like vermilion with size (a glue-like substance) to create a more durable and lightfast pigment.',\n",
       "               'Red lake pigments were created by mixing pigments like vermilion with a binder and then grinding them into a paste with a colorless oil, typically linseed oil. This process fixed the pigment and allowed it to be used in painting.',\n",
       "               'Red lake pigments were created by grinding colored substances like vermilion or kermes with a binding medium, often oil or gum arabic.'],\n",
       "              'cluster_ids': [0, 0, 1, 2, 2, 3, 4, 5, 6, 0]}})"
      ]
     },
     "execution_count": 8,
     "metadata": {},
     "output_type": "execute_result"
    }
   ],
   "source": [
    "d"
   ]
  }
 ],
 "metadata": {
  "kernelspec": {
   "display_name": "frag",
   "language": "python",
   "name": "python3"
  },
  "language_info": {
   "codemirror_mode": {
    "name": "ipython",
    "version": 3
   },
   "file_extension": ".py",
   "mimetype": "text/x-python",
   "name": "python",
   "nbconvert_exporter": "python",
   "pygments_lexer": "ipython3",
   "version": "3.11.5"
  }
 },
 "nbformat": 4,
 "nbformat_minor": 2
}
