{
 "cells": [
  {
   "cell_type": "code",
   "execution_count": 1,
   "metadata": {},
   "outputs": [
    {
     "name": "stderr",
     "output_type": "stream",
     "text": [
      "  0%|          | 0/8 [00:00<?, ?it/s]"
     ]
    },
    {
     "data": {
      "application/vnd.jupyter.widget-view+json": {
       "model_id": "e6a4b00d413b4f609c731093c44dbecd",
       "version_major": 2,
       "version_minor": 0
      },
      "text/plain": [
       "  0%|          | 0/171332 [00:00<?, ?it/s]"
      ]
     },
     "metadata": {},
     "output_type": "display_data"
    },
    {
     "name": "stderr",
     "output_type": "stream",
     "text": [
      " 12%|█▎        | 1/8 [00:01<00:08,  1.22s/it]"
     ]
    },
    {
     "name": "stdout",
     "output_type": "stream",
     "text": [
      "Success count: 500, success1 count: 14, fail count: 0\n"
     ]
    },
    {
     "data": {
      "application/vnd.jupyter.widget-view+json": {
       "model_id": "bfabdedc6eb040edbd409e0d55c789e4",
       "version_major": 2,
       "version_minor": 0
      },
      "text/plain": [
       "  0%|          | 0/5416593 [00:00<?, ?it/s]"
      ]
     },
     "metadata": {},
     "output_type": "display_data"
    },
    {
     "name": "stderr",
     "output_type": "stream",
     "text": [
      " 25%|██▌       | 2/8 [00:25<01:30, 15.02s/it]"
     ]
    },
    {
     "name": "stdout",
     "output_type": "stream",
     "text": [
      "Success count: 500, success1 count: 25, fail count: 14850\n"
     ]
    },
    {
     "data": {
      "application/vnd.jupyter.widget-view+json": {
       "model_id": "6a760a25d49c40819cb4299daac85d9a",
       "version_major": 2,
       "version_minor": 0
      },
      "text/plain": [
       "  0%|          | 0/4635922 [00:00<?, ?it/s]"
      ]
     },
     "metadata": {},
     "output_type": "display_data"
    },
    {
     "name": "stderr",
     "output_type": "stream",
     "text": [
      " 38%|███▊      | 3/8 [00:45<01:25, 17.09s/it]"
     ]
    },
    {
     "name": "stdout",
     "output_type": "stream",
     "text": [
      "Success count: 463, success1 count: 26, fail count: 3537\n"
     ]
    },
    {
     "data": {
      "application/vnd.jupyter.widget-view+json": {
       "model_id": "3d7d8a2d22f0485fbc9326302dfb8d2f",
       "version_major": 2,
       "version_minor": 0
      },
      "text/plain": [
       "  0%|          | 0/5416568 [00:00<?, ?it/s]"
      ]
     },
     "metadata": {},
     "output_type": "display_data"
    },
    {
     "name": "stderr",
     "output_type": "stream",
     "text": [
      " 50%|█████     | 4/8 [01:10<01:21, 20.29s/it]"
     ]
    },
    {
     "name": "stdout",
     "output_type": "stream",
     "text": [
      "Success count: 62, success1 count: 4, fail count: 66538\n"
     ]
    },
    {
     "data": {
      "application/vnd.jupyter.widget-view+json": {
       "model_id": "28263b897e6f49d29aeeea7d325e4b80",
       "version_major": 2,
       "version_minor": 0
      },
      "text/plain": [
       "  0%|          | 0/5233329 [00:00<?, ?it/s]"
      ]
     },
     "metadata": {},
     "output_type": "display_data"
    },
    {
     "name": "stderr",
     "output_type": "stream",
     "text": [
      " 62%|██████▎   | 5/8 [01:32<01:02, 20.81s/it]"
     ]
    },
    {
     "name": "stdout",
     "output_type": "stream",
     "text": [
      "Success count: 500, success1 count: 41, fail count: 73550\n"
     ]
    },
    {
     "data": {
      "application/vnd.jupyter.widget-view+json": {
       "model_id": "42513c1205bf4f619babe356af9352c0",
       "version_major": 2,
       "version_minor": 0
      },
      "text/plain": [
       "  0%|          | 0/3633 [00:00<?, ?it/s]"
      ]
     },
     "metadata": {},
     "output_type": "display_data"
    },
    {
     "name": "stderr",
     "output_type": "stream",
     "text": [
      " 75%|███████▌  | 6/8 [01:32<00:27, 13.78s/it]"
     ]
    },
    {
     "name": "stdout",
     "output_type": "stream",
     "text": [
      "Success count: 500, success1 count: 22, fail count: 2730\n"
     ]
    },
    {
     "data": {
      "application/vnd.jupyter.widget-view+json": {
       "model_id": "e0118e541ed6471e9aed1ba84ebb7852",
       "version_major": 2,
       "version_minor": 0
      },
      "text/plain": [
       "  0%|          | 0/2681468 [00:00<?, ?it/s]"
      ]
     },
     "metadata": {},
     "output_type": "display_data"
    },
    {
     "name": "stderr",
     "output_type": "stream",
     "text": [
      " 88%|████████▊ | 7/8 [01:43<00:12, 12.90s/it]"
     ]
    },
    {
     "name": "stdout",
     "output_type": "stream",
     "text": [
      "Success count: 500, success1 count: 50, fail count: 34020\n"
     ]
    },
    {
     "data": {
      "application/vnd.jupyter.widget-view+json": {
       "model_id": "d61a9c9882ae4a3b9d3d4e5a9e2f0659",
       "version_major": 2,
       "version_minor": 0
      },
      "text/plain": [
       "  0%|          | 0/25657 [00:00<?, ?it/s]"
      ]
     },
     "metadata": {},
     "output_type": "display_data"
    },
    {
     "name": "stderr",
     "output_type": "stream",
     "text": [
      "100%|██████████| 8/8 [01:44<00:00, 13.07s/it]"
     ]
    },
    {
     "name": "stdout",
     "output_type": "stream",
     "text": [
      "Success count: 299, success1 count: 4, fail count: 9701\n",
      "(24, 3, 8)\n"
     ]
    },
    {
     "name": "stderr",
     "output_type": "stream",
     "text": [
      "\n"
     ]
    },
    {
     "data": {
      "text/html": [
       "<div>\n",
       "<style scoped>\n",
       "    .dataframe tbody tr th:only-of-type {\n",
       "        vertical-align: middle;\n",
       "    }\n",
       "\n",
       "    .dataframe tbody tr th {\n",
       "        vertical-align: top;\n",
       "    }\n",
       "\n",
       "    .dataframe thead th {\n",
       "        text-align: right;\n",
       "    }\n",
       "</style>\n",
       "<table border=\"1\" class=\"dataframe\">\n",
       "  <thead>\n",
       "    <tr style=\"text-align: right;\">\n",
       "      <th></th>\n",
       "      <th>rank</th>\n",
       "      <th>entropy</th>\n",
       "      <th>rerank</th>\n",
       "    </tr>\n",
       "  </thead>\n",
       "  <tbody>\n",
       "    <tr>\n",
       "      <th>MAP@5</th>\n",
       "      <td>0.267825</td>\n",
       "      <td>0.065489</td>\n",
       "      <td>0.267825</td>\n",
       "    </tr>\n",
       "    <tr>\n",
       "      <th>MRR@5</th>\n",
       "      <td>0.576873</td>\n",
       "      <td>0.109799</td>\n",
       "      <td>0.576873</td>\n",
       "    </tr>\n",
       "    <tr>\n",
       "      <th>NDCG@5</th>\n",
       "      <td>0.449309</td>\n",
       "      <td>0.217816</td>\n",
       "      <td>0.449309</td>\n",
       "    </tr>\n",
       "    <tr>\n",
       "      <th>P@5</th>\n",
       "      <td>0.276875</td>\n",
       "      <td>0.200887</td>\n",
       "      <td>0.276875</td>\n",
       "    </tr>\n",
       "    <tr>\n",
       "      <th>Recall@5</th>\n",
       "      <td>0.336066</td>\n",
       "      <td>0.146546</td>\n",
       "      <td>0.336066</td>\n",
       "    </tr>\n",
       "    <tr>\n",
       "      <th>R_cap@5</th>\n",
       "      <td>0.087000</td>\n",
       "      <td>0.077000</td>\n",
       "      <td>0.087000</td>\n",
       "    </tr>\n",
       "  </tbody>\n",
       "</table>\n",
       "</div>"
      ],
      "text/plain": [
       "              rank   entropy    rerank\n",
       "MAP@5     0.267825  0.065489  0.267825\n",
       "MRR@5     0.576873  0.109799  0.576873\n",
       "NDCG@5    0.449309  0.217816  0.449309\n",
       "P@5       0.276875  0.200887  0.276875\n",
       "Recall@5  0.336066  0.146546  0.336066\n",
       "R_cap@5   0.087000  0.077000  0.087000"
      ]
     },
     "execution_count": 1,
     "metadata": {},
     "output_type": "execute_result"
    }
   ],
   "source": [
    "import gc\n",
    "import os\n",
    "import pickle\n",
    "import jsonlines\n",
    "import torch\n",
    "from tqdm import tqdm\n",
    "from collections import defaultdict\n",
    "import argparse\n",
    "from core.models.entailment import EntailmentDeberta\n",
    "from core.data.data_utils import load_ds_from_json\n",
    "from rank_eval import eval_beir_rerank_result\n",
    "\n",
    "def load_pickle_file(file_path):\n",
    "    with open(file_path, 'rb') as f:\n",
    "        data = pickle.load(f)\n",
    "    return data\n",
    "\n",
    "def save_pickle_file(file_path, data):\n",
    "    with open(file_path, 'wb') as f:\n",
    "        pickle.dump(data, f)\n",
    "\n",
    "\n",
    "\n",
    "def run_eval(dataset_names, size_name=\"small\"):\n",
    "    # BEIR_DATASET_NAMES = [\"trec-covid\", \"climate-fever\", \"dbpedia-entity\", \"fever\", \"fiqa\", \"hotpotqa\", \"msmarco\",  \"nfcorpus\", \"nq\", \"scidocs\", \"scifact\"]\n",
    "    # SIZE_NAME = \"toy\"\n",
    "    # SIZE_NAME = \"small\"\n",
    "\n",
    "    all_scores = {}\n",
    "    for dataset_name in tqdm(dataset_names):\n",
    "        try:\n",
    "            dataset_path = f'/home/song/dataset/beir/{dataset_name}'\n",
    "            rank_result_path = f'dataset/rank/{dataset_name}/{dataset_name}-rank10.tsv'\n",
    "            entropy_result_path = f'output/rerank/{dataset_name}/entropy-{size_name}.tsv'\n",
    "            all_scores[dataset_name] = eval_beir_rerank_result(rank_result_path, entropy_result_path, dataset_path, dataset_name, k_values=[1,3,5,10])\n",
    "        except Exception as e:\n",
    "            print(f\"Error: {e}\")\n",
    "    # Save all_scores\n",
    "    save_pickle_file(f\"output/rerank/entropy_scores_{size_name}.pkl\", all_scores)\n",
    "    return all_scores\n",
    "# all_scores = load_pickle_file('output/rerank/entropy_scores_small.pkl')\n",
    "\n",
    "def calc_avg_score(all_scores, dataset_names, methods, all_metrics):\n",
    "    # 利用numpy，将all_scores建立高维数组，[指标][方法][数据集]\n",
    "    import numpy as np\n",
    "    score_array = np.zeros((len(all_metrics), len(methods), len(dataset_names)))\n",
    "    for i, dataset_name in enumerate(dataset_names):\n",
    "        for j, method in enumerate(methods):\n",
    "            for k, (metric1, metric2) in enumerate(all_metrics):\n",
    "                try:\n",
    "                    score_array[k, j, i] = all_scores[dataset_name][method][metric1][metric2]\n",
    "                except Exception as e:\n",
    "                    pass\n",
    "                    # print(e)\n",
    "                    # print(f\"Error in {dataset_name}\")\n",
    "    print(score_array.shape)\n",
    "\n",
    "    # 将score_array转换为DataFrame，将方法名称和指标名称（all_metrics的第二个元素）作为行列索引，数据集这列取平均值\n",
    "    import pandas as pd\n",
    "    # df = pd.DataFrame(score_array.mean(axis=-1), index=all_metrics, columns=methods)\n",
    "    df = pd.DataFrame(score_array.mean(axis=-1), index=[m[1] for m in all_metrics], columns=methods)\n",
    "    return df\n",
    "\n",
    "\n",
    "dataset_names = [\"trec-covid\", \"climate-fever\", \"dbpedia-entity\", \"fever\", \"hotpotqa\", \"nfcorpus\", \"nq\", \"scidocs\"]\n",
    "methods = [\"rank\", \"entropy\", \"rerank\"]\n",
    "all_metrics = [('map', 'MAP@1'), ('map', 'MAP@10'), ('map', 'MAP@3'), ('map', 'MAP@5'), ('mrr', 'MRR@1'), ('mrr', 'MRR@10'), ('mrr', 'MRR@3'), ('mrr', 'MRR@5'), ('ndcg', 'NDCG@1'), ('ndcg', 'NDCG@10'), ('ndcg', 'NDCG@3'), ('ndcg', 'NDCG@5'), ('precision', 'P@1'), ('precision', 'P@10'), ('precision', 'P@3'), ('precision', 'P@5'), ('recall', 'Recall@1'), ('recall', 'Recall@10'), ('recall', 'Recall@3'), ('recall', 'Recall@5'), ('recall_cap', 'R_cap@1'), ('recall_cap', 'R_cap@10'), ('recall_cap', 'R_cap@3'), ('recall_cap', 'R_cap@5')]\n",
    "\n",
    "\n",
    "all_scores = run_eval(dataset_names)\n",
    "df = calc_avg_score(all_scores, dataset_names, methods, all_metrics)\n",
    "# 过滤掉不需要的指标，只保留@5结尾的\n",
    "df[df.index.str.endswith('@5')]"
   ]
  },
  {
   "cell_type": "code",
   "execution_count": 2,
   "metadata": {},
   "outputs": [
    {
     "data": {
      "text/html": [
       "<div>\n",
       "<style scoped>\n",
       "    .dataframe tbody tr th:only-of-type {\n",
       "        vertical-align: middle;\n",
       "    }\n",
       "\n",
       "    .dataframe tbody tr th {\n",
       "        vertical-align: top;\n",
       "    }\n",
       "\n",
       "    .dataframe thead th {\n",
       "        text-align: right;\n",
       "    }\n",
       "</style>\n",
       "<table border=\"1\" class=\"dataframe\">\n",
       "  <thead>\n",
       "    <tr style=\"text-align: right;\">\n",
       "      <th></th>\n",
       "      <th>rank</th>\n",
       "      <th>entropy</th>\n",
       "      <th>rerank</th>\n",
       "    </tr>\n",
       "  </thead>\n",
       "  <tbody>\n",
       "    <tr>\n",
       "      <th>MAP@10</th>\n",
       "      <td>0.282621</td>\n",
       "      <td>0.105758</td>\n",
       "      <td>0.282621</td>\n",
       "    </tr>\n",
       "    <tr>\n",
       "      <th>MRR@10</th>\n",
       "      <td>0.587074</td>\n",
       "      <td>0.112075</td>\n",
       "      <td>0.587074</td>\n",
       "    </tr>\n",
       "    <tr>\n",
       "      <th>NDCG@10</th>\n",
       "      <td>0.453737</td>\n",
       "      <td>0.306845</td>\n",
       "      <td>0.453737</td>\n",
       "    </tr>\n",
       "    <tr>\n",
       "      <th>P@10</th>\n",
       "      <td>0.208579</td>\n",
       "      <td>0.217044</td>\n",
       "      <td>0.208579</td>\n",
       "    </tr>\n",
       "    <tr>\n",
       "      <th>Recall@10</th>\n",
       "      <td>0.390086</td>\n",
       "      <td>0.399086</td>\n",
       "      <td>0.390086</td>\n",
       "    </tr>\n",
       "    <tr>\n",
       "      <th>R_cap@10</th>\n",
       "      <td>0.078000</td>\n",
       "      <td>0.078000</td>\n",
       "      <td>0.078000</td>\n",
       "    </tr>\n",
       "  </tbody>\n",
       "</table>\n",
       "</div>"
      ],
      "text/plain": [
       "               rank   entropy    rerank\n",
       "MAP@10     0.282621  0.105758  0.282621\n",
       "MRR@10     0.587074  0.112075  0.587074\n",
       "NDCG@10    0.453737  0.306845  0.453737\n",
       "P@10       0.208579  0.217044  0.208579\n",
       "Recall@10  0.390086  0.399086  0.390086\n",
       "R_cap@10   0.078000  0.078000  0.078000"
      ]
     },
     "execution_count": 2,
     "metadata": {},
     "output_type": "execute_result"
    }
   ],
   "source": [
    "# 过滤掉不需要的指标，只保留@10结尾的\n",
    "df[df.index.str.endswith('@10')]"
   ]
  },
  {
   "cell_type": "code",
   "execution_count": 3,
   "metadata": {},
   "outputs": [
    {
     "data": {
      "text/html": [
       "<div>\n",
       "<style scoped>\n",
       "    .dataframe tbody tr th:only-of-type {\n",
       "        vertical-align: middle;\n",
       "    }\n",
       "\n",
       "    .dataframe tbody tr th {\n",
       "        vertical-align: top;\n",
       "    }\n",
       "\n",
       "    .dataframe thead th {\n",
       "        text-align: right;\n",
       "    }\n",
       "</style>\n",
       "<table border=\"1\" class=\"dataframe\">\n",
       "  <thead>\n",
       "    <tr style=\"text-align: right;\">\n",
       "      <th></th>\n",
       "      <th>rank</th>\n",
       "      <th>entropy</th>\n",
       "      <th>rerank</th>\n",
       "    </tr>\n",
       "  </thead>\n",
       "  <tbody>\n",
       "    <tr>\n",
       "      <th>MAP@1</th>\n",
       "      <td>0.191144</td>\n",
       "      <td>0.014234</td>\n",
       "      <td>0.191144</td>\n",
       "    </tr>\n",
       "    <tr>\n",
       "      <th>MRR@1</th>\n",
       "      <td>0.492181</td>\n",
       "      <td>0.091201</td>\n",
       "      <td>0.492181</td>\n",
       "    </tr>\n",
       "    <tr>\n",
       "      <th>NDCG@1</th>\n",
       "      <td>0.466569</td>\n",
       "      <td>0.143776</td>\n",
       "      <td>0.466569</td>\n",
       "    </tr>\n",
       "    <tr>\n",
       "      <th>P@1</th>\n",
       "      <td>0.491867</td>\n",
       "      <td>0.159415</td>\n",
       "      <td>0.491867</td>\n",
       "    </tr>\n",
       "    <tr>\n",
       "      <th>Recall@1</th>\n",
       "      <td>0.190920</td>\n",
       "      <td>0.014059</td>\n",
       "      <td>0.190920</td>\n",
       "    </tr>\n",
       "    <tr>\n",
       "      <th>R_cap@1</th>\n",
       "      <td>0.092500</td>\n",
       "      <td>0.082500</td>\n",
       "      <td>0.092500</td>\n",
       "    </tr>\n",
       "  </tbody>\n",
       "</table>\n",
       "</div>"
      ],
      "text/plain": [
       "              rank   entropy    rerank\n",
       "MAP@1     0.191144  0.014234  0.191144\n",
       "MRR@1     0.492181  0.091201  0.492181\n",
       "NDCG@1    0.466569  0.143776  0.466569\n",
       "P@1       0.491867  0.159415  0.491867\n",
       "Recall@1  0.190920  0.014059  0.190920\n",
       "R_cap@1   0.092500  0.082500  0.092500"
      ]
     },
     "execution_count": 3,
     "metadata": {},
     "output_type": "execute_result"
    }
   ],
   "source": [
    "# 过滤掉不需要的指标，只保留@1结尾的\n",
    "df[df.index.str.endswith('@1')]"
   ]
  },
  {
   "cell_type": "code",
   "execution_count": 4,
   "metadata": {},
   "outputs": [
    {
     "data": {
      "text/html": [
       "<div>\n",
       "<style scoped>\n",
       "    .dataframe tbody tr th:only-of-type {\n",
       "        vertical-align: middle;\n",
       "    }\n",
       "\n",
       "    .dataframe tbody tr th {\n",
       "        vertical-align: top;\n",
       "    }\n",
       "\n",
       "    .dataframe thead th {\n",
       "        text-align: right;\n",
       "    }\n",
       "</style>\n",
       "<table border=\"1\" class=\"dataframe\">\n",
       "  <thead>\n",
       "    <tr style=\"text-align: right;\">\n",
       "      <th></th>\n",
       "      <th>rank</th>\n",
       "      <th>entropy</th>\n",
       "      <th>rerank</th>\n",
       "    </tr>\n",
       "  </thead>\n",
       "  <tbody>\n",
       "    <tr>\n",
       "      <th>MAP@3</th>\n",
       "      <td>0.252623</td>\n",
       "      <td>0.051774</td>\n",
       "      <td>0.252623</td>\n",
       "    </tr>\n",
       "    <tr>\n",
       "      <th>MRR@3</th>\n",
       "      <td>0.563814</td>\n",
       "      <td>0.106375</td>\n",
       "      <td>0.563814</td>\n",
       "    </tr>\n",
       "    <tr>\n",
       "      <th>NDCG@3</th>\n",
       "      <td>0.447342</td>\n",
       "      <td>0.199419</td>\n",
       "      <td>0.447342</td>\n",
       "    </tr>\n",
       "    <tr>\n",
       "      <th>P@3</th>\n",
       "      <td>0.336843</td>\n",
       "      <td>0.205226</td>\n",
       "      <td>0.336843</td>\n",
       "    </tr>\n",
       "    <tr>\n",
       "      <th>Recall@3</th>\n",
       "      <td>0.295301</td>\n",
       "      <td>0.095734</td>\n",
       "      <td>0.295301</td>\n",
       "    </tr>\n",
       "    <tr>\n",
       "      <th>R_cap@3</th>\n",
       "      <td>0.088334</td>\n",
       "      <td>0.078334</td>\n",
       "      <td>0.088334</td>\n",
       "    </tr>\n",
       "  </tbody>\n",
       "</table>\n",
       "</div>"
      ],
      "text/plain": [
       "              rank   entropy    rerank\n",
       "MAP@3     0.252623  0.051774  0.252623\n",
       "MRR@3     0.563814  0.106375  0.563814\n",
       "NDCG@3    0.447342  0.199419  0.447342\n",
       "P@3       0.336843  0.205226  0.336843\n",
       "Recall@3  0.295301  0.095734  0.295301\n",
       "R_cap@3   0.088334  0.078334  0.088334"
      ]
     },
     "execution_count": 4,
     "metadata": {},
     "output_type": "execute_result"
    }
   ],
   "source": [
    "# 过滤掉不需要的指标，只保留@3结尾的\n",
    "df[df.index.str.endswith('@3')]"
   ]
  }
 ],
 "metadata": {
  "kernelspec": {
   "display_name": "frag",
   "language": "python",
   "name": "python3"
  },
  "language_info": {
   "codemirror_mode": {
    "name": "ipython",
    "version": 3
   },
   "file_extension": ".py",
   "mimetype": "text/x-python",
   "name": "python",
   "nbconvert_exporter": "python",
   "pygments_lexer": "ipython3",
   "version": "3.11.5"
  }
 },
 "nbformat": 4,
 "nbformat_minor": 2
}
