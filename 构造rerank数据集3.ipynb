{
 "cells": [
  {
   "cell_type": "markdown",
   "metadata": {},
   "source": [
    "# 构造rank数据集\n",
    "\n",
    "## 尺寸说明\n",
    "- `T`/`toy`: 玩具尺寸，10个query\n",
    "- `S`/`small`: 小尺寸，50个query\n",
    "- `M`/`medium`: 中尺寸，待定\n",
    "- `L`/`large`: 大尺寸，待定\n",
    "- `A`/`all`: 完整尺寸，所有query\n",
    "- 默认10个rank，若100个rank可在后面追加，例如`small100`表示50个query+100个rank"
   ]
  },
  {
   "cell_type": "code",
   "execution_count": 1,
   "metadata": {},
   "outputs": [],
   "source": [
    "%load_ext autoreload\n",
    "%autoreload 2\n",
    "\n",
    "import os\n",
    "import json\n",
    "import jsonlines\n",
    "import pandas as pd\n",
    "from collections import defaultdict\n",
    "import shutil\n",
    "from tqdm import tqdm\n",
    "import csv\n",
    "from make_rank_dataset import load_dataset, load_rank_results, make_rank_dataset"
   ]
  },
  {
   "cell_type": "code",
   "execution_count": null,
   "metadata": {},
   "outputs": [
    {
     "name": "stdout",
     "output_type": "stream",
     "text": [
      "######## Dataset trec-covid\n",
      "Total 50 questions have relevance results\n",
      "Total 50 questions have rank results\n",
      "Total 50 questions have both relevance and rank results\n",
      "> Use 10 questions\n"
     ]
    },
    {
     "name": "stderr",
     "output_type": "stream",
     "text": [
      "100%|██████████| 10/10 [00:37<00:00,  3.76s/it]"
     ]
    },
    {
     "name": "stdout",
     "output_type": "stream",
     "text": [
      "len(rank_results[qid]): 0\n",
      "doc_ids: 1\n",
      "len(rank_results[qid]): 0\n",
      "doc_ids: 1\n",
      "len(rank_results[qid]): 0\n",
      "doc_ids: 1\n",
      "len(rank_results[qid]): 0\n",
      "doc_ids: 1\n",
      "len(rank_results[qid]): 0\n",
      "doc_ids: 1\n",
      "len(rank_results[qid]): 0\n",
      "doc_ids: 1\n",
      "len(rank_results[qid]): 0\n",
      "doc_ids: 1\n",
      "len(rank_results[qid]): 0\n",
      "doc_ids: 1\n",
      "len(rank_results[qid]): 0\n",
      "doc_ids: 1\n",
      "len(rank_results[qid]): 0\n",
      "doc_ids: 1\n",
      "Saved to dataset/rank/trec-covid/trec-covid-toy.tsv\n",
      "Total 10 prompts\n",
      "######## Dataset trec-covid\n"
     ]
    },
    {
     "name": "stderr",
     "output_type": "stream",
     "text": [
      "\n"
     ]
    },
    {
     "name": "stdout",
     "output_type": "stream",
     "text": [
      "Total 50 questions have relevance results\n",
      "Total 50 questions have rank results\n",
      "Total 50 questions have both relevance and rank results\n",
      "> Use 50 questions\n"
     ]
    },
    {
     "name": "stderr",
     "output_type": "stream",
     "text": [
      "100%|██████████| 50/50 [00:00<00:00, 37065.25it/s]"
     ]
    },
    {
     "name": "stdout",
     "output_type": "stream",
     "text": [
      "len(rank_results[qid]): 0\n",
      "doc_ids: 1\n",
      "len(rank_results[qid]): 0\n",
      "doc_ids: 1\n",
      "len(rank_results[qid]): 0\n",
      "doc_ids: 1\n",
      "len(rank_results[qid]): 0\n",
      "doc_ids: 1\n",
      "len(rank_results[qid]): 0\n",
      "doc_ids: 1\n",
      "len(rank_results[qid]): 0\n",
      "doc_ids: 1\n",
      "len(rank_results[qid]): 0\n",
      "doc_ids: 1\n",
      "len(rank_results[qid]): 0\n",
      "doc_ids: 1\n",
      "len(rank_results[qid]): 0\n",
      "doc_ids: 1\n",
      "len(rank_results[qid]): 0\n",
      "doc_ids: 1\n",
      "len(rank_results[qid]): 0\n",
      "doc_ids: 1\n",
      "len(rank_results[qid]): 0\n",
      "doc_ids: 1\n",
      "len(rank_results[qid]): 0\n",
      "doc_ids: 1\n",
      "len(rank_results[qid]): 0\n",
      "doc_ids: 1\n",
      "len(rank_results[qid]): 0\n",
      "doc_ids: 1\n",
      "len(rank_results[qid]): 0\n",
      "doc_ids: 1\n",
      "len(rank_results[qid]): 0\n",
      "doc_ids: 1\n",
      "len(rank_results[qid]): 0\n",
      "doc_ids: 1\n",
      "len(rank_results[qid]): 0\n",
      "doc_ids: 1\n",
      "len(rank_results[qid]): 0\n",
      "doc_ids: 1\n",
      "len(rank_results[qid]): 0\n",
      "doc_ids: 1\n",
      "len(rank_results[qid]): 0\n",
      "doc_ids: 1\n",
      "len(rank_results[qid]): 0\n",
      "doc_ids: 1\n",
      "len(rank_results[qid]): 0\n",
      "doc_ids: 1\n",
      "len(rank_results[qid]): 0\n",
      "doc_ids: 1\n",
      "len(rank_results[qid]): 0\n",
      "doc_ids: 1\n",
      "len(rank_results[qid]): 0\n",
      "doc_ids: 1\n",
      "len(rank_results[qid]): 0\n",
      "doc_ids: 1\n",
      "len(rank_results[qid]): 0\n",
      "doc_ids: 1\n",
      "len(rank_results[qid]): 0\n",
      "doc_ids: 1\n",
      "len(rank_results[qid]): 0\n",
      "doc_ids: 1\n",
      "len(rank_results[qid]): 0\n",
      "doc_ids: 1\n",
      "len(rank_results[qid]): 0\n",
      "doc_ids: 1\n",
      "len(rank_results[qid]): 0\n",
      "doc_ids: 1\n",
      "len(rank_results[qid]): 0\n",
      "doc_ids: 1\n",
      "len(rank_results[qid]): 0\n",
      "doc_ids: 1\n",
      "len(rank_results[qid]): 0\n",
      "doc_ids: 1\n",
      "len(rank_results[qid]): 0\n",
      "doc_ids: 1\n",
      "len(rank_results[qid]): 0\n",
      "doc_ids: 1\n",
      "len(rank_results[qid]): 0\n",
      "doc_ids: 1\n",
      "len(rank_results[qid]): 0\n",
      "doc_ids: 1\n",
      "len(rank_results[qid]): 0\n",
      "doc_ids: 1\n",
      "len(rank_results[qid]): 0\n",
      "doc_ids: 1\n",
      "len(rank_results[qid]): 0\n",
      "doc_ids: 1\n",
      "len(rank_results[qid]): 0\n",
      "doc_ids: 1\n",
      "len(rank_results[qid]): 0\n",
      "doc_ids: 1\n",
      "len(rank_results[qid]): 0\n",
      "doc_ids: 1\n",
      "len(rank_results[qid]): 0\n",
      "doc_ids: 1\n",
      "len(rank_results[qid]): 0\n",
      "doc_ids: 1\n",
      "len(rank_results[qid]): 0\n",
      "doc_ids: 1\n",
      "Saved to dataset/rank/trec-covid/trec-covid-small.tsv\n",
      "Total 50 prompts\n",
      "######## Dataset climate-fever\n"
     ]
    },
    {
     "name": "stderr",
     "output_type": "stream",
     "text": [
      "\n"
     ]
    },
    {
     "name": "stdout",
     "output_type": "stream",
     "text": [
      "Total 1535 questions have relevance results\n",
      "Total 1535 questions have rank results\n",
      "Total 1535 questions have both relevance and rank results\n",
      "> Use 10 questions\n"
     ]
    },
    {
     "name": "stderr",
     "output_type": "stream",
     "text": [
      "100%|██████████| 10/10 [00:00<00:00, 24921.59it/s]"
     ]
    },
    {
     "name": "stdout",
     "output_type": "stream",
     "text": [
      "len(rank_results[qid]): 0\n",
      "doc_ids: 1\n",
      "len(rank_results[qid]): 0\n",
      "doc_ids: 1\n",
      "len(rank_results[qid]): 0\n",
      "doc_ids: 1\n",
      "len(rank_results[qid]): 0\n",
      "doc_ids: 1\n",
      "len(rank_results[qid]): 0\n",
      "doc_ids: 1\n",
      "len(rank_results[qid]): 0\n",
      "doc_ids: 1\n",
      "len(rank_results[qid]): 0\n",
      "doc_ids: 1\n",
      "len(rank_results[qid]): 0\n",
      "doc_ids: 1\n",
      "len(rank_results[qid]): 0\n",
      "doc_ids: 1\n",
      "len(rank_results[qid]): 0\n",
      "doc_ids: 1\n",
      "Saved to dataset/rank/climate-fever/climate-fever-toy.tsv\n",
      "Total 10 prompts\n",
      "######## Dataset climate-fever\n"
     ]
    },
    {
     "name": "stderr",
     "output_type": "stream",
     "text": [
      "\n"
     ]
    },
    {
     "name": "stdout",
     "output_type": "stream",
     "text": [
      "Total 1535 questions have relevance results\n",
      "Total 1535 questions have rank results\n",
      "Total 1535 questions have both relevance and rank results\n",
      "> Use 50 questions\n"
     ]
    },
    {
     "name": "stderr",
     "output_type": "stream",
     "text": [
      "100%|██████████| 50/50 [00:00<00:00, 30700.51it/s]"
     ]
    },
    {
     "name": "stdout",
     "output_type": "stream",
     "text": [
      "len(rank_results[qid]): 0\n",
      "doc_ids: 1\n",
      "len(rank_results[qid]): 0\n",
      "doc_ids: 1\n",
      "len(rank_results[qid]): 0\n",
      "doc_ids: 1\n",
      "len(rank_results[qid]): 0\n",
      "doc_ids: 1\n",
      "len(rank_results[qid]): 0\n",
      "doc_ids: 1\n",
      "len(rank_results[qid]): 0\n",
      "doc_ids: 1\n",
      "len(rank_results[qid]): 0\n",
      "doc_ids: 1\n",
      "len(rank_results[qid]): 0\n",
      "doc_ids: 1\n",
      "len(rank_results[qid]): 0\n",
      "doc_ids: 1\n",
      "len(rank_results[qid]): 0\n",
      "doc_ids: 1\n",
      "len(rank_results[qid]): 0\n",
      "doc_ids: 1\n",
      "len(rank_results[qid]): 0\n",
      "doc_ids: 1\n",
      "len(rank_results[qid]): 0\n",
      "doc_ids: 1\n",
      "len(rank_results[qid]): 0\n",
      "doc_ids: 1\n",
      "len(rank_results[qid]): 0\n",
      "doc_ids: 1\n",
      "len(rank_results[qid]): 0\n",
      "doc_ids: 1\n",
      "len(rank_results[qid]): 0\n",
      "doc_ids: 1\n",
      "len(rank_results[qid]): 0\n",
      "doc_ids: 1\n",
      "len(rank_results[qid]): 0\n",
      "doc_ids: 1\n",
      "len(rank_results[qid]): 0\n",
      "doc_ids: 1\n",
      "len(rank_results[qid]): 0\n",
      "doc_ids: 1\n",
      "len(rank_results[qid]): 0\n",
      "doc_ids: 1\n",
      "len(rank_results[qid]): 0\n",
      "doc_ids: 1\n",
      "len(rank_results[qid]): 0\n",
      "doc_ids: 1\n",
      "len(rank_results[qid]): 0\n",
      "doc_ids: 1\n",
      "len(rank_results[qid]): 0\n",
      "doc_ids: 1\n",
      "len(rank_results[qid]): 0\n",
      "doc_ids: 1\n",
      "len(rank_results[qid]): 0\n",
      "doc_ids: 1\n",
      "len(rank_results[qid]): 0\n",
      "doc_ids: 1\n",
      "len(rank_results[qid]): 0\n",
      "doc_ids: 1\n",
      "len(rank_results[qid]): 0\n",
      "doc_ids: 1\n",
      "len(rank_results[qid]): 0\n",
      "doc_ids: 1\n",
      "len(rank_results[qid]): 0\n",
      "doc_ids: 1\n",
      "len(rank_results[qid]): 0\n",
      "doc_ids: 1\n",
      "len(rank_results[qid]): 0\n",
      "doc_ids: 1\n",
      "len(rank_results[qid]): 0\n",
      "doc_ids: 1\n",
      "len(rank_results[qid]): 0\n",
      "doc_ids: 1\n",
      "len(rank_results[qid]): 0\n",
      "doc_ids: 1\n",
      "len(rank_results[qid]): 0\n",
      "doc_ids: 1\n",
      "len(rank_results[qid]): 0\n",
      "doc_ids: 1\n",
      "len(rank_results[qid]): 0\n",
      "doc_ids: 1\n",
      "len(rank_results[qid]): 0\n",
      "doc_ids: 1\n",
      "len(rank_results[qid]): 0\n",
      "doc_ids: 1\n",
      "len(rank_results[qid]): 0\n",
      "doc_ids: 1\n",
      "len(rank_results[qid]): 0\n",
      "doc_ids: 1\n",
      "len(rank_results[qid]): 0\n",
      "doc_ids: 1\n",
      "len(rank_results[qid]): 0\n",
      "doc_ids: 1\n",
      "len(rank_results[qid]): 0\n",
      "doc_ids: 1\n",
      "len(rank_results[qid]): 0\n",
      "doc_ids: 1\n",
      "len(rank_results[qid]): 0\n",
      "doc_ids: 1\n",
      "Saved to dataset/rank/climate-fever/climate-fever-small.tsv\n",
      "Total 50 prompts\n"
     ]
    },
    {
     "name": "stderr",
     "output_type": "stream",
     "text": [
      "\n"
     ]
    },
    {
     "name": "stdout",
     "output_type": "stream",
     "text": [
      "######## Dataset dbpedia-entity\n"
     ]
    },
    {
     "ename": "KeyboardInterrupt",
     "evalue": "",
     "output_type": "error",
     "traceback": [
      "\u001b[0;31m---------------------------------------------------------------------------\u001b[0m",
      "\u001b[0;31mKeyboardInterrupt\u001b[0m                         Traceback (most recent call last)",
      "Cell \u001b[0;32mIn[2], line 16\u001b[0m\n\u001b[1;32m     14\u001b[0m output_path \u001b[38;5;241m=\u001b[39m os\u001b[38;5;241m.\u001b[39mpath\u001b[38;5;241m.\u001b[39mjoin(\u001b[38;5;124m'\u001b[39m\u001b[38;5;124mdataset/rank\u001b[39m\u001b[38;5;124m'\u001b[39m, dataset_name, \u001b[38;5;124mf\u001b[39m\u001b[38;5;124m\"\u001b[39m\u001b[38;5;132;01m{\u001b[39;00mdataset_name\u001b[38;5;132;01m}\u001b[39;00m\u001b[38;5;124m-\u001b[39m\u001b[38;5;132;01m{\u001b[39;00msize_name\u001b[38;5;132;01m}\u001b[39;00m\u001b[38;5;124m.tsv\u001b[39m\u001b[38;5;124m\"\u001b[39m)\n\u001b[1;32m     15\u001b[0m os\u001b[38;5;241m.\u001b[39mmakedirs(os\u001b[38;5;241m.\u001b[39mpath\u001b[38;5;241m.\u001b[39mdirname(output_path), exist_ok\u001b[38;5;241m=\u001b[39m\u001b[38;5;28;01mTrue\u001b[39;00m)\n\u001b[0;32m---> 16\u001b[0m \u001b[43mmake_rank_dataset\u001b[49m\u001b[43m(\u001b[49m\u001b[43mdataset_name\u001b[49m\u001b[43m,\u001b[49m\u001b[43m \u001b[49m\u001b[43mdataset_path\u001b[49m\u001b[43m,\u001b[49m\u001b[43m \u001b[49m\u001b[43mrank_result_path\u001b[49m\u001b[43m,\u001b[49m\u001b[43m \u001b[49m\u001b[43moutput_path\u001b[49m\u001b[43m,\u001b[49m\u001b[43m \u001b[49m\u001b[43mquery_num\u001b[49m\u001b[43m,\u001b[49m\u001b[43m \u001b[49m\u001b[43mrank_num\u001b[49m\u001b[43m)\u001b[49m\n",
      "File \u001b[0;32m~/code/frag4/make_rank_dataset.py:45\u001b[0m, in \u001b[0;36mmake_rank_dataset\u001b[0;34m(dataset_name, dataset_path, rank_result_path, output_path, query_num, rank_num)\u001b[0m\n\u001b[1;32m     42\u001b[0m \u001b[38;5;28;01mdef\u001b[39;00m \u001b[38;5;21mmake_rank_dataset\u001b[39m(dataset_name, dataset_path, rank_result_path, output_path, query_num, rank_num):\n\u001b[1;32m     43\u001b[0m     \u001b[38;5;28mprint\u001b[39m(\u001b[38;5;124mf\u001b[39m\u001b[38;5;124m\"\u001b[39m\u001b[38;5;124m######## Dataset \u001b[39m\u001b[38;5;132;01m{\u001b[39;00mdataset_name\u001b[38;5;132;01m}\u001b[39;00m\u001b[38;5;124m\"\u001b[39m)\n\u001b[0;32m---> 45\u001b[0m     queries, docs, scores \u001b[38;5;241m=\u001b[39m \u001b[43mload_dataset\u001b[49m\u001b[43m(\u001b[49m\u001b[43mdataset_path\u001b[49m\u001b[43m)\u001b[49m\n\u001b[1;32m     46\u001b[0m     rank_results \u001b[38;5;241m=\u001b[39m load_rank_results(rank_result_path)\n\u001b[1;32m     47\u001b[0m     \u001b[38;5;66;03m# print(type(rank_results), len(rank_results), rank_results[list(rank_results.keys())[0]])\u001b[39;00m\n",
      "File \u001b[0;32m~/code/frag4/make_rank_dataset.py:23\u001b[0m, in \u001b[0;36mload_dataset\u001b[0;34m(dataset_path)\u001b[0m\n\u001b[1;32m     21\u001b[0m docs \u001b[38;5;241m=\u001b[39m {}\n\u001b[1;32m     22\u001b[0m \u001b[38;5;28;01mwith\u001b[39;00m jsonlines\u001b[38;5;241m.\u001b[39mopen(doc_path) \u001b[38;5;28;01mas\u001b[39;00m reader:\n\u001b[0;32m---> 23\u001b[0m \u001b[43m    \u001b[49m\u001b[38;5;28;43;01mfor\u001b[39;49;00m\u001b[43m \u001b[49m\u001b[43mdoc\u001b[49m\u001b[43m \u001b[49m\u001b[38;5;129;43;01min\u001b[39;49;00m\u001b[43m \u001b[49m\u001b[43mreader\u001b[49m\u001b[43m:\u001b[49m\n\u001b[1;32m     24\u001b[0m \u001b[43m        \u001b[49m\u001b[43mdocs\u001b[49m\u001b[43m[\u001b[49m\u001b[38;5;28;43mstr\u001b[39;49m\u001b[43m(\u001b[49m\u001b[43mdoc\u001b[49m\u001b[43m[\u001b[49m\u001b[38;5;124;43m'\u001b[39;49m\u001b[38;5;124;43m_id\u001b[39;49m\u001b[38;5;124;43m'\u001b[39;49m\u001b[43m]\u001b[49m\u001b[43m)\u001b[49m\u001b[43m]\u001b[49m\u001b[43m \u001b[49m\u001b[38;5;241;43m=\u001b[39;49m\u001b[43m \u001b[49m\u001b[43mdoc\u001b[49m\u001b[43m[\u001b[49m\u001b[38;5;124;43m'\u001b[39;49m\u001b[38;5;124;43mtext\u001b[39;49m\u001b[38;5;124;43m'\u001b[39;49m\u001b[43m]\u001b[49m\n\u001b[1;32m     26\u001b[0m rel_path \u001b[38;5;241m=\u001b[39m os\u001b[38;5;241m.\u001b[39mpath\u001b[38;5;241m.\u001b[39mjoin(dataset_path, \u001b[38;5;124m'\u001b[39m\u001b[38;5;124mqrels/test.tsv\u001b[39m\u001b[38;5;124m'\u001b[39m)\n",
      "File \u001b[0;32m~/miniconda3/envs/frag/lib/python3.11/site-packages/jsonlines/jsonlines.py:434\u001b[0m, in \u001b[0;36mReader.iter\u001b[0;34m(self, type, allow_none, skip_empty, skip_invalid)\u001b[0m\n\u001b[1;32m    432\u001b[0m \u001b[38;5;28;01mwhile\u001b[39;00m \u001b[38;5;28;01mTrue\u001b[39;00m:\n\u001b[1;32m    433\u001b[0m     \u001b[38;5;28;01mtry\u001b[39;00m:\n\u001b[0;32m--> 434\u001b[0m         \u001b[38;5;28;01myield\u001b[39;00m \u001b[38;5;28;43mself\u001b[39;49m\u001b[38;5;241;43m.\u001b[39;49m\u001b[43mread\u001b[49m\u001b[43m(\u001b[49m\n\u001b[1;32m    435\u001b[0m \u001b[43m            \u001b[49m\u001b[38;5;28;43mtype\u001b[39;49m\u001b[38;5;241;43m=\u001b[39;49m\u001b[38;5;28;43mtype\u001b[39;49m\u001b[43m,\u001b[49m\u001b[43m \u001b[49m\u001b[43mallow_none\u001b[49m\u001b[38;5;241;43m=\u001b[39;49m\u001b[43mallow_none\u001b[49m\u001b[43m,\u001b[49m\u001b[43m \u001b[49m\u001b[43mskip_empty\u001b[49m\u001b[38;5;241;43m=\u001b[39;49m\u001b[43mskip_empty\u001b[49m\n\u001b[1;32m    436\u001b[0m \u001b[43m        \u001b[49m\u001b[43m)\u001b[49m\n\u001b[1;32m    437\u001b[0m     \u001b[38;5;28;01mexcept\u001b[39;00m InvalidLineError:\n\u001b[1;32m    438\u001b[0m         \u001b[38;5;28;01mif\u001b[39;00m \u001b[38;5;129;01mnot\u001b[39;00m skip_invalid:\n",
      "File \u001b[0;32m~/miniconda3/envs/frag/lib/python3.11/site-packages/jsonlines/jsonlines.py:278\u001b[0m, in \u001b[0;36mReader.read\u001b[0;34m(self, type, allow_none, skip_empty)\u001b[0m\n\u001b[1;32m    268\u001b[0m \u001b[38;5;129m@overload\u001b[39m\n\u001b[1;32m    269\u001b[0m \u001b[38;5;28;01mdef\u001b[39;00m \u001b[38;5;21mread\u001b[39m(\n\u001b[1;32m    270\u001b[0m     \u001b[38;5;28mself\u001b[39m,\n\u001b[0;32m   (...)\u001b[0m\n\u001b[1;32m    274\u001b[0m     skip_empty: \u001b[38;5;28mbool\u001b[39m \u001b[38;5;241m=\u001b[39m \u001b[38;5;241m.\u001b[39m\u001b[38;5;241m.\u001b[39m\u001b[38;5;241m.\u001b[39m,\n\u001b[1;32m    275\u001b[0m ) \u001b[38;5;241m-\u001b[39m\u001b[38;5;241m>\u001b[39m Optional[JSONValue]:\n\u001b[1;32m    276\u001b[0m     \u001b[38;5;241m.\u001b[39m\u001b[38;5;241m.\u001b[39m\u001b[38;5;241m.\u001b[39m  \u001b[38;5;66;03m# pragma: no cover\u001b[39;00m\n\u001b[0;32m--> 278\u001b[0m \u001b[38;5;28;01mdef\u001b[39;00m \u001b[38;5;21mread\u001b[39m(\n\u001b[1;32m    279\u001b[0m     \u001b[38;5;28mself\u001b[39m,\n\u001b[1;32m    280\u001b[0m     \u001b[38;5;241m*\u001b[39m,\n\u001b[1;32m    281\u001b[0m     \u001b[38;5;28mtype\u001b[39m: Optional[Type[Any]] \u001b[38;5;241m=\u001b[39m \u001b[38;5;28;01mNone\u001b[39;00m,\n\u001b[1;32m    282\u001b[0m     allow_none: \u001b[38;5;28mbool\u001b[39m \u001b[38;5;241m=\u001b[39m \u001b[38;5;28;01mFalse\u001b[39;00m,\n\u001b[1;32m    283\u001b[0m     skip_empty: \u001b[38;5;28mbool\u001b[39m \u001b[38;5;241m=\u001b[39m \u001b[38;5;28;01mFalse\u001b[39;00m,\n\u001b[1;32m    284\u001b[0m ) \u001b[38;5;241m-\u001b[39m\u001b[38;5;241m>\u001b[39m Optional[JSONValue]:\n\u001b[1;32m    285\u001b[0m \u001b[38;5;250m    \u001b[39m\u001b[38;5;124;03m\"\"\"\u001b[39;00m\n\u001b[1;32m    286\u001b[0m \u001b[38;5;124;03m    Read and decode a line.\u001b[39;00m\n\u001b[1;32m    287\u001b[0m \n\u001b[0;32m   (...)\u001b[0m\n\u001b[1;32m    299\u001b[0m \u001b[38;5;124;03m    containing only whitespace are silently skipped.\u001b[39;00m\n\u001b[1;32m    300\u001b[0m \u001b[38;5;124;03m    \"\"\"\u001b[39;00m\n\u001b[1;32m    301\u001b[0m     \u001b[38;5;28;01mif\u001b[39;00m \u001b[38;5;28mself\u001b[39m\u001b[38;5;241m.\u001b[39m_closed:\n",
      "\u001b[0;31mKeyboardInterrupt\u001b[0m: "
     ]
    }
   ],
   "source": [
    "# 数据集目录\n",
    "DATASET_DIR = '/home/song/dataset/beir'\n",
    "# 检索结果目录\n",
    "RANK_RESULT_DIR = '/home/song/dataset/first/beir_rank'\n",
    "# FIRST所使用的11个数据集\n",
    "BEIR_DATASET_NAMES = [\"trec-covid\", \"climate-fever\", \"dbpedia-entity\", \"fever\", \"fiqa\", \"hotpotqa\", \"msmarco\",  \"nfcorpus\", \"nq\", \"scidocs\", \"scifact\"]\n",
    "# 尺寸后缀、问题数量、文档数量\n",
    "SIZES = [(\"toy\", 10, 10), (\"small\", 50, 10)]\n",
    "\n",
    "for dataset_name in tqdm(BEIR_DATASET_NAMES):\n",
    "    dataset_path = os.path.join(DATASET_DIR, dataset_name)\n",
    "    rank_result_path = os.path.join(RANK_RESULT_DIR, dataset_name, \"rank.tsv\")\n",
    "    for size_name, query_num, rank_num in SIZES:\n",
    "        output_path = os.path.join('dataset/rank', dataset_name, f\"{dataset_name}-{size_name}.jsonl\")\n",
    "        os.makedirs(os.path.dirname(output_path), exist_ok=True)\n",
    "        make_rank_dataset(dataset_name, dataset_path, rank_result_path, output_path, query_num, rank_num)\n"
   ]
  },
  {
   "cell_type": "code",
   "execution_count": null,
   "metadata": {},
   "outputs": [],
   "source": []
  },
  {
   "cell_type": "code",
   "execution_count": null,
   "metadata": {},
   "outputs": [],
   "source": [
    "from make_rank_dataset import load_dataset\n",
    "\n",
    "DATASET_DIR = '/home/song/dataset/beir'\n",
    "# \"cqadustack\", \n",
    "BEIR_DATASET_NAMES = [\"msmarco\"]\n",
    "for dataset_name in BEIR_DATASET_NAMES:\n",
    "    dataset_path = os.path.join(DATASET_DIR, dataset_name)\n",
    "    queries, docs, scores = load_dataset(dataset_path)\n",
    "    print(f\"{dataset_name}, query: {len(queries)}, doc: {len(docs)}, score: {len(scores)}\")"
   ]
  },
  {
   "cell_type": "code",
   "execution_count": null,
   "metadata": {},
   "outputs": [],
   "source": [
    "\n",
    "\n",
    "\n",
    "\n",
    "for dataset_name in [\"msmarco\"]:\n",
    "    rank_result_path = os.path.join(RANK_RESULT_DIR, dataset_name, \"rank.tsv\")\n",
    "    results = load_rank_results(rank_result_path)\n",
    "    print(f\"{dataset_name}, query: {len(results)}\")\n",
    "    "
   ]
  },
  {
   "cell_type": "code",
   "execution_count": null,
   "metadata": {},
   "outputs": [],
   "source": [
    "rank_qids = set(results.keys())\n",
    "rel_qids = set(map(str, scores.keys()))\n",
    "print(len(rank_qids), len(rel_qids), len(rank_qids & rel_qids))"
   ]
  },
  {
   "cell_type": "code",
   "execution_count": null,
   "metadata": {},
   "outputs": [],
   "source": [
    "rank_qids"
   ]
  },
  {
   "cell_type": "code",
   "execution_count": null,
   "metadata": {},
   "outputs": [],
   "source": [
    "rel_qids"
   ]
  },
  {
   "cell_type": "code",
   "execution_count": null,
   "metadata": {},
   "outputs": [],
   "source": [
    "rank_qids & rel_qids"
   ]
  }
 ],
 "metadata": {
  "kernelspec": {
   "display_name": "frag",
   "language": "python",
   "name": "python3"
  },
  "language_info": {
   "codemirror_mode": {
    "name": "ipython",
    "version": 3
   },
   "file_extension": ".py",
   "mimetype": "text/x-python",
   "name": "python",
   "nbconvert_exporter": "python",
   "pygments_lexer": "ipython3",
   "version": "3.11.5"
  }
 },
 "nbformat": 4,
 "nbformat_minor": 2
}
