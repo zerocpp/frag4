{
 "cells": [
  {
   "cell_type": "markdown",
   "metadata": {},
   "source": [
    "# 构造rank数据集\n",
    "- beir数据集的每个子集取100个query\n",
    "- 每个query取前100个doc作为rank\n",
    "- query_id命名为${dataset_name}-test0，例如nq-test0\n",
    "- doc_id命名为${dataset_name}-doc0，例如nq-doc0"
   ]
  },
  {
   "cell_type": "code",
   "execution_count": 1,
   "metadata": {},
   "outputs": [],
   "source": [
    "%load_ext autoreload\n",
    "%autoreload 2\n",
    "\n",
    "import os\n",
    "import json\n",
    "import jsonlines\n",
    "import pandas as pd\n",
    "from collections import defaultdict\n",
    "import shutil\n",
    "from tqdm import tqdm"
   ]
  },
  {
   "cell_type": "code",
   "execution_count": 2,
   "metadata": {},
   "outputs": [
    {
     "name": "stdout",
     "output_type": "stream",
     "text": [
      "msmarco, query: 509962, doc: 8841823, score: 43\n",
      "fiqa, query: 6648, doc: 57638, score: 648\n",
      "nfcorpus, query: 3237, doc: 3633, score: 323\n",
      "scidocs, query: 1000, doc: 25657, score: 1000\n",
      "webis-touche2020, query: 49, doc: 382545, score: 49\n",
      "arguana, query: 1406, doc: 8674, score: 1406\n",
      "dbpedia-entity, query: 467, doc: 4635922, score: 400\n",
      "hotpotqa, query: 97852, doc: 5233329, score: 7405\n",
      "nq, query: 3452, doc: 2681468, score: 3452\n",
      "scifact, query: 1109, doc: 5183, score: 300\n",
      "climate-fever, query: 1535, doc: 5416593, score: 1535\n",
      "fever, query: 123142, doc: 5416568, score: 6666\n",
      "quora, query: 15000, doc: 522931, score: 10000\n",
      "trec-covid, query: 50, doc: 171332, score: 50\n"
     ]
    }
   ],
   "source": [
    "from make_rank_dataset import load_dataset\n",
    "\n",
    "DATASET_DIR = '/home/song/dataset/beir'\n",
    "# \"cqadustack\", \n",
    "DATASET_NAMES = [\"msmarco\", \"fiqa\", \"nfcorpus\", \"scidocs\", \"webis-touche2020\", \"arguana\", \"dbpedia-entity\", \"hotpotqa\", \"nq\", \"scifact\", \"climate-fever\", \"fever\", \"quora\", \"trec-covid\", ]\n",
    "for dataset_name in DATASET_NAMES:\n",
    "    dataset_path = os.path.join(DATASET_DIR, dataset_name)\n",
    "    queries, docs, scores = load_dataset(dataset_path)\n",
    "    print(f\"{dataset_name}, query: {len(queries)}, doc: {len(docs)}, score: {len(scores)}\")"
   ]
  }
 ],
 "metadata": {
  "kernelspec": {
   "display_name": "frag",
   "language": "python",
   "name": "python3"
  },
  "language_info": {
   "codemirror_mode": {
    "name": "ipython",
    "version": 3
   },
   "file_extension": ".py",
   "mimetype": "text/x-python",
   "name": "python",
   "nbconvert_exporter": "python",
   "pygments_lexer": "ipython3",
   "version": "3.11.5"
  }
 },
 "nbformat": 4,
 "nbformat_minor": 2
}
