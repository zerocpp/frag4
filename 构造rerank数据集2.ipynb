{
 "cells": [
  {
   "cell_type": "markdown",
   "metadata": {},
   "source": [
    "# 根据rank.json构造rank.jsonl\n",
    "- 根据nq-rank-10.json构造nq-rank-10.jsonl"
   ]
  },
  {
   "cell_type": "code",
   "execution_count": 1,
   "metadata": {},
   "outputs": [],
   "source": [
    "# !pip install jsonlines"
   ]
  },
  {
   "cell_type": "code",
   "execution_count": 2,
   "metadata": {},
   "outputs": [],
   "source": [
    "%load_ext autoreload\n",
    "%autoreload 2\n",
    "\n",
    "import os\n",
    "import json\n",
    "import jsonlines\n",
    "import pandas as pd\n",
    "from collections import defaultdict\n",
    "import shutil\n",
    "from tqdm import tqdm"
   ]
  },
  {
   "cell_type": "code",
   "execution_count": 3,
   "metadata": {},
   "outputs": [],
   "source": [
    "# 输入json文件路径\n",
    "JSON_FILE_PATH = '/Users/song/Downloads/rank-dataset/nq-rank-10.json'\n",
    "\n",
    "# 输出jsonl文件路径\n",
    "JSONL_FILE_PATH = '/Users/song/Downloads/rank-dataset/nq-rank-10.jsonl'\n",
    "\n",
    "# 创建输出文件夹\n",
    "os.makedirs(os.path.dirname(JSONL_FILE_PATH), exist_ok=True)"
   ]
  },
  {
   "cell_type": "markdown",
   "metadata": {},
   "source": [
    "## JSON文件格式：\n",
    "```json\n",
    "all_data = {\n",
    "    \"metadata\": {\n",
    "        \"name\": \"nq\",\n",
    "        \"description\": \"nq dataset\",\n",
    "        \"version\": \"1.0.0\"\n",
    "    },\n",
    "    // 遍历顺序\n",
    "    \"query_ids\": [\"test0\", \"test1\", \"test2\"],\n",
    "    // 问题文本\n",
    "    \"queries\": {\n",
    "        \"test0\": \"test0\",\n",
    "        \"test1\": \"test1\",\n",
    "        \"test2\": \"test2\"\n",
    "    },\n",
    "    // 文档文本\n",
    "    \"docs\": {\n",
    "        \"doc0\": \"doc0\",\n",
    "        \"doc1\": \"doc1\",\n",
    "        \"doc2\": \"doc2\"\n",
    "    },\n",
    "    // 相关性标注\n",
    "    \"qrels\": {\n",
    "        \"test0\": [\"doc0\", \"doc1\"],\n",
    "        \"test1\": [\"doc1\", \"doc2\"],\n",
    "        \"test2\": [\"doc0\", \"doc2\"]\n",
    "    },\n",
    "    // 排序结果\n",
    "    \"rank\": {\n",
    "        \"test0\": [\"doc0\", \"doc1\"],\n",
    "        \"test1\": [\"doc1\", \"doc2\"],\n",
    "        \"test2\": [\"doc0\", \"doc2\"],\n",
    "    }\n",
    "}\n",
    "```"
   ]
  },
  {
   "cell_type": "markdown",
   "metadata": {},
   "source": [
    "## JSONL文件格式：\n",
    "\n",
    "- 不带上下文\n",
    "```json\n",
    "{\n",
    "    \"metadata\": {\n",
    "        \"src_json_file\": \"nq-rank-10.json\",\n",
    "        \"query_id\": \"test0\",\n",
    "        \"doc_id\": \"no\",\n",
    "    },\n",
    "    \"id\": \"nq-test0-no\",\n",
    "    \"question\": \"Why was the General Belgrano sunk?\",\n",
    "    \"context\": null,\n",
    "}\n",
    "```\n",
    "\n",
    "- 带上下文\n",
    "```json\n",
    "{\n",
    "    \"metadata\": {\n",
    "        \"src_json_file\": \"nq-rank-10.json\",\n",
    "        \"query_id\": \"test0\",\n",
    "        \"doc_id\": \"doc0\",\n",
    "    },\n",
    "    \"id\": \"nq-test0-doc0\",\n",
    "    \"question\": \"Why was the General Belgrano sunk?\",\n",
    "    \"context\": \"This is a test context\",\n",
    "}\n",
    "```"
   ]
  },
  {
   "cell_type": "code",
   "execution_count": 4,
   "metadata": {},
   "outputs": [
    {
     "name": "stderr",
     "output_type": "stream",
     "text": [
      "100%|██████████| 3452/3452 [00:00<00:00, 18274.01it/s]\n"
     ]
    }
   ],
   "source": [
    "# 加载json文件\n",
    "with open(JSON_FILE_PATH, 'r') as f:\n",
    "    all_data = json.load(f)\n",
    "\n",
    "with jsonlines.open(JSONL_FILE_PATH, 'w') as writer:\n",
    "    for qid in tqdm(all_data['query_ids']):\n",
    "        query = all_data['queries'][qid]\n",
    "        doc_ids = ['no'] + all_data['rank'][qid]\n",
    "        for doc_id in doc_ids:\n",
    "            assert all_data['docs'].get(doc_id, None) is not None or doc_id == 'no'\n",
    "            writer.write({\n",
    "                'metadata': {\n",
    "                    'src_json_file': JSON_FILE_PATH.split('/')[-1],\n",
    "                    'query_id': qid,\n",
    "                    'doc_id': doc_id,\n",
    "                },\n",
    "                'id': f'nq-{qid}-{doc_id}',\n",
    "                'question': query,\n",
    "                'context': all_data['docs'].get(doc_id, None),\n",
    "            })"
   ]
  }
 ],
 "metadata": {
  "kernelspec": {
   "display_name": "frag",
   "language": "python",
   "name": "python3"
  },
  "language_info": {
   "codemirror_mode": {
    "name": "ipython",
    "version": 3
   },
   "file_extension": ".py",
   "mimetype": "text/x-python",
   "name": "python",
   "nbconvert_exporter": "python",
   "pygments_lexer": "ipython3",
   "version": "3.11.6"
  }
 },
 "nbformat": 4,
 "nbformat_minor": 2
}
