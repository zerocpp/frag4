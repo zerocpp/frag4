{
 "cells": [
  {
   "cell_type": "code",
   "execution_count": 1,
   "metadata": {},
   "outputs": [],
   "source": [
    "import gc\n",
    "import os\n",
    "import pickle\n",
    "import jsonlines\n",
    "import torch\n",
    "from tqdm import tqdm\n",
    "from collections import defaultdict\n",
    "import argparse\n",
    "from core.models.entailment import EntailmentDeberta\n",
    "from core.data.data_utils import load_ds_from_json\n",
    "from rank_eval import eval_beir_rank_result\n",
    "\n",
    "def load_pickle_file(file_path):\n",
    "    with open(file_path, 'rb') as f:\n",
    "        data = pickle.load(f)\n",
    "    return data\n",
    "\n",
    "def save_pickle_file(file_path, data):\n",
    "    with open(file_path, 'wb') as f:\n",
    "        pickle.dump(data, f)"
   ]
  },
  {
   "cell_type": "code",
   "execution_count": 2,
   "metadata": {},
   "outputs": [
    {
     "name": "stderr",
     "output_type": "stream",
     "text": [
      "  0%|          | 0/11 [00:00<?, ?it/s]"
     ]
    },
    {
     "name": "stdout",
     "output_type": "stream",
     "text": [
      "> trec-covid rerank:\n",
      "rerank_result_path: output/rerank/trec-covid/rerank-toy.tsv\n"
     ]
    },
    {
     "data": {
      "application/vnd.jupyter.widget-view+json": {
       "model_id": "12ed03dee72a4f219e6ae7798859aafd",
       "version_major": 2,
       "version_minor": 0
      },
      "text/plain": [
       "  0%|          | 0/171332 [00:00<?, ?it/s]"
      ]
     },
     "metadata": {},
     "output_type": "display_data"
    },
    {
     "name": "stdout",
     "output_type": "stream",
     "text": [
      "Retriever evaluation\n",
      "map:\n",
      "{'MAP@1': 0.00157, 'MAP@3': 0.00371, 'MAP@5': 0.00574, 'MAP@10': 0.01046}\n",
      "precision:\n",
      "{'P@1': 0.7, 'P@3': 0.56667, 'P@5': 0.6, 'P@10': 0.61}\n",
      "ndcg:\n",
      "{'NDCG@1': 0.55, 'NDCG@3': 0.5, 'NDCG@5': 0.51163, 'NDCG@10': 0.51762}\n",
      "mrr:\n",
      "{'MRR@1': 0.14, 'MRR@3': 0.15667, 'MRR@5': 0.15667, 'MRR@10': 0.16}\n",
      "recall_cap:\n",
      "{'R_cap@1': 0.14, 'R_cap@3': 0.12, 'R_cap@5': 0.12, 'R_cap@10': 0.122}\n",
      ">> trec-covid rank:\n"
     ]
    },
    {
     "data": {
      "application/vnd.jupyter.widget-view+json": {
       "model_id": "92b53a5056844820b6c477d681541b70",
       "version_major": 2,
       "version_minor": 0
      },
      "text/plain": [
       "  0%|          | 0/171332 [00:00<?, ?it/s]"
      ]
     },
     "metadata": {},
     "output_type": "display_data"
    },
    {
     "name": "stderr",
     "output_type": "stream",
     "text": [
      "  9%|▉         | 1/11 [00:02<00:23,  2.33s/it]"
     ]
    },
    {
     "name": "stdout",
     "output_type": "stream",
     "text": [
      "Retriever evaluation\n",
      "map:\n",
      "{'MAP@1': 0.00175, 'MAP@3': 0.0051, 'MAP@5': 0.00807, 'MAP@10': 0.01358}\n",
      "precision:\n",
      "{'P@1': 0.72, 'P@3': 0.72, 'P@5': 0.696, 'P@10': 0.624}\n",
      "ndcg:\n",
      "{'NDCG@1': 0.65, 'NDCG@3': 0.67061, 'NDCG@5': 0.64957, 'NDCG@10': 0.59638}\n",
      "mrr:\n",
      "{'MRR@1': 0.72, 'MRR@3': 0.78667, 'MRR@5': 0.79567, 'MRR@10': 0.80471}\n",
      "recall_cap:\n",
      "{'R_cap@1': 0.72, 'R_cap@3': 0.72, 'R_cap@5': 0.696, 'R_cap@10': 0.624}\n",
      "> climate-fever rerank:\n",
      "rerank_result_path: output/rerank/climate-fever/rerank-toy.tsv\n"
     ]
    },
    {
     "data": {
      "application/vnd.jupyter.widget-view+json": {
       "model_id": "b9ccfb3fcf9e41dda8f43f40d23a2faa",
       "version_major": 2,
       "version_minor": 0
      },
      "text/plain": [
       "  0%|          | 0/5416593 [00:00<?, ?it/s]"
      ]
     },
     "metadata": {},
     "output_type": "display_data"
    },
    {
     "name": "stdout",
     "output_type": "stream",
     "text": [
      "Retriever evaluation\n",
      "map:\n",
      "{'MAP@1': 0.08333, 'MAP@3': 0.08333, 'MAP@5': 0.1025, 'MAP@10': 0.14845}\n",
      "precision:\n",
      "{'P@1': 0.2, 'P@3': 0.06667, 'P@5': 0.1, 'P@10': 0.13}\n",
      "ndcg:\n",
      "{'NDCG@1': 0.2, 'NDCG@3': 0.10824, 'NDCG@5': 0.16002, 'NDCG@10': 0.26615}\n",
      "mrr:\n",
      "{'MRR@1': 0.00065, 'MRR@3': 0.00098, 'MRR@5': 0.00143, 'MRR@10': 0.00174}\n",
      "recall:\n",
      "{'Recall@1': 0.08333, 'Recall@3': 0.08333, 'Recall@5': 0.16667, 'Recall@10': 0.395}\n",
      ">> climate-fever rank:\n"
     ]
    },
    {
     "data": {
      "application/vnd.jupyter.widget-view+json": {
       "model_id": "5b8b436ae5244c3a97cb812fa545834e",
       "version_major": 2,
       "version_minor": 0
      },
      "text/plain": [
       "  0%|          | 0/5416593 [00:00<?, ?it/s]"
      ]
     },
     "metadata": {},
     "output_type": "display_data"
    },
    {
     "name": "stdout",
     "output_type": "stream",
     "text": [
      "Retriever evaluation\n",
      "map:\n",
      "{'MAP@1': 0.09848, 'MAP@3': 0.13828, 'MAP@5': 0.1515, 'MAP@10': 0.16494}\n",
      "precision:\n",
      "{'P@1': 0.21629, 'P@3': 0.13833, 'P@5': 0.10788, 'P@10': 0.07472}\n",
      "ndcg:\n",
      "{'NDCG@1': 0.21629, 'NDCG@3': 0.18945, 'NDCG@5': 0.20541, 'NDCG@10': 0.23712}\n",
      "mrr:\n",
      "{'MRR@1': 0.21629, 'MRR@3': 0.28339, 'MRR@5': 0.30137, 'MRR@10': 0.31756}\n",
      "recall:\n",
      "{'Recall@1': 0.09848, 'Recall@3': 0.17719, 'Recall@5': 0.22004, 'Recall@10': 0.29169}\n"
     ]
    },
    {
     "name": "stderr",
     "output_type": "stream",
     "text": [
      " 18%|█▊        | 2/11 [00:54<04:43, 31.45s/it]"
     ]
    },
    {
     "name": "stdout",
     "output_type": "stream",
     "text": [
      "> dbpedia-entity rerank:\n",
      "rerank_result_path: output/rerank/dbpedia-entity/rerank-toy.tsv\n"
     ]
    },
    {
     "data": {
      "application/vnd.jupyter.widget-view+json": {
       "model_id": "5601d245c4c9403cb7e3712a22137f29",
       "version_major": 2,
       "version_minor": 0
      },
      "text/plain": [
       "  0%|          | 0/4635922 [00:00<?, ?it/s]"
      ]
     },
     "metadata": {},
     "output_type": "display_data"
    },
    {
     "name": "stdout",
     "output_type": "stream",
     "text": [
      "Retriever evaluation\n",
      "map:\n",
      "{'MAP@1': 0.01843, 'MAP@3': 0.0501, 'MAP@5': 0.06144, 'MAP@10': 0.08719}\n",
      "precision:\n",
      "{'P@1': 0.8, 'P@3': 0.7, 'P@5': 0.6, 'P@10': 0.51}\n",
      "ndcg:\n",
      "{'NDCG@1': 0.7, 'NDCG@3': 0.59491, 'NDCG@5': 0.55606, 'NDCG@10': 0.49936}\n",
      "mrr:\n",
      "{'MRR@1': 0.02, 'MRR@3': 0.02125, 'MRR@5': 0.02187, 'MRR@10': 0.02187}\n",
      "recall:\n",
      "{'Recall@1': 0.01843, 'Recall@3': 0.05201, 'Recall@5': 0.06886, 'Recall@10': 0.10333}\n",
      ">> dbpedia-entity rank:\n"
     ]
    },
    {
     "data": {
      "application/vnd.jupyter.widget-view+json": {
       "model_id": "a61757cc653c4669a4b1c0453667f306",
       "version_major": 2,
       "version_minor": 0
      },
      "text/plain": [
       "  0%|          | 0/4635922 [00:00<?, ?it/s]"
      ]
     },
     "metadata": {},
     "output_type": "display_data"
    },
    {
     "name": "stderr",
     "output_type": "stream",
     "text": [
      " 18%|█▊        | 2/11 [01:16<05:44, 38.32s/it]\n"
     ]
    },
    {
     "ename": "KeyboardInterrupt",
     "evalue": "",
     "output_type": "error",
     "traceback": [
      "\u001b[0;31m---------------------------------------------------------------------------\u001b[0m",
      "\u001b[0;31mKeyboardInterrupt\u001b[0m                         Traceback (most recent call last)",
      "Cell \u001b[0;32mIn[2], line 16\u001b[0m\n\u001b[1;32m     14\u001b[0m     \u001b[38;5;28mprint\u001b[39m(\u001b[38;5;124mf\u001b[39m\u001b[38;5;124m\"\u001b[39m\u001b[38;5;124m>> \u001b[39m\u001b[38;5;132;01m{\u001b[39;00mdataset_name\u001b[38;5;132;01m}\u001b[39;00m\u001b[38;5;124m rank:\u001b[39m\u001b[38;5;124m\"\u001b[39m)\n\u001b[1;32m     15\u001b[0m     rank_result_path \u001b[38;5;241m=\u001b[39m \u001b[38;5;124mf\u001b[39m\u001b[38;5;124m'\u001b[39m\u001b[38;5;124m/home/song/dataset/first/beir_rank/\u001b[39m\u001b[38;5;132;01m{\u001b[39;00mdataset_name\u001b[38;5;132;01m}\u001b[39;00m\u001b[38;5;124m/rank.tsv\u001b[39m\u001b[38;5;124m'\u001b[39m\n\u001b[0;32m---> 16\u001b[0m     rank_scores \u001b[38;5;241m=\u001b[39m \u001b[43meval_beir_rank_result\u001b[49m\u001b[43m(\u001b[49m\u001b[43mrank_result_path\u001b[49m\u001b[43m,\u001b[49m\u001b[43m \u001b[49m\u001b[43mdataset_path\u001b[49m\u001b[43m,\u001b[49m\u001b[43m \u001b[49m\u001b[43mdataset_name\u001b[49m\u001b[43m,\u001b[49m\u001b[43m \u001b[49m\u001b[43mk_values\u001b[49m\u001b[38;5;241;43m=\u001b[39;49m\u001b[43m[\u001b[49m\u001b[38;5;241;43m1\u001b[39;49m\u001b[43m,\u001b[49m\u001b[38;5;241;43m3\u001b[39;49m\u001b[43m,\u001b[49m\u001b[38;5;241;43m5\u001b[39;49m\u001b[43m,\u001b[49m\u001b[38;5;241;43m10\u001b[39;49m\u001b[43m]\u001b[49m\u001b[43m)\u001b[49m\n\u001b[1;32m     17\u001b[0m     all_scores[dataset_name][\u001b[38;5;124m\"\u001b[39m\u001b[38;5;124mrank\u001b[39m\u001b[38;5;124m\"\u001b[39m] \u001b[38;5;241m=\u001b[39m rerank_scores\n\u001b[1;32m     18\u001b[0m \u001b[38;5;28mprint\u001b[39m(\u001b[38;5;124m\"\u001b[39m\u001b[38;5;124mALL DONE!\u001b[39m\u001b[38;5;124m\"\u001b[39m)\n",
      "File \u001b[0;32m~/code/frag4/rank_eval.py:39\u001b[0m, in \u001b[0;36meval_beir_rank_result\u001b[0;34m(rank_result_path, dataset_path, dataset_name, k_values)\u001b[0m\n\u001b[1;32m     32\u001b[0m \u001b[38;5;28;01mdef\u001b[39;00m \u001b[38;5;21meval_beir_rank_result\u001b[39m(rank_result_path, dataset_path, dataset_name, k_values\u001b[38;5;241m=\u001b[39m[\u001b[38;5;241m1\u001b[39m,\u001b[38;5;241m3\u001b[39m,\u001b[38;5;241m5\u001b[39m,\u001b[38;5;241m10\u001b[39m]):\n\u001b[1;32m     33\u001b[0m     \u001b[38;5;66;03m# print(f\"> Start evaluating rank results\")\u001b[39;00m\n\u001b[1;32m     34\u001b[0m     \u001b[38;5;66;03m# print(f\"rank_result_path: {rank_result_path}\")\u001b[39;00m\n\u001b[0;32m   (...)\u001b[0m\n\u001b[1;32m     37\u001b[0m \n\u001b[1;32m     38\u001b[0m     \u001b[38;5;66;03m# Load data\u001b[39;00m\n\u001b[0;32m---> 39\u001b[0m     corpus, queries, qrels \u001b[38;5;241m=\u001b[39m \u001b[43mload_data\u001b[49m\u001b[43m(\u001b[49m\u001b[43mdataset_path\u001b[49m\u001b[43m,\u001b[49m\u001b[43m \u001b[49m\u001b[43mdataset_name\u001b[49m\u001b[43m)\u001b[49m\n\u001b[1;32m     41\u001b[0m     \u001b[38;5;66;03m# rank_result_path = \"/Users/song/Downloads/beir/nq/rank.tsv\"\u001b[39;00m\n\u001b[1;32m     42\u001b[0m     results \u001b[38;5;241m=\u001b[39m load_rank_results(rank_result_path)\n",
      "File \u001b[0;32m~/code/frag4/rank_eval.py:29\u001b[0m, in \u001b[0;36mload_data\u001b[0;34m(dataset_path, dataset_name)\u001b[0m\n\u001b[1;32m     24\u001b[0m \u001b[38;5;28;01mdef\u001b[39;00m \u001b[38;5;21mload_data\u001b[39m(dataset_path, dataset_name):\n\u001b[1;32m     25\u001b[0m     \u001b[38;5;66;03m# if dataset_name == \"msmarco\": # why?\u001b[39;00m\n\u001b[1;32m     26\u001b[0m     \u001b[38;5;66;03m#     corpus, queries, qrels = GenericDataLoader(data_folder=dataset_path).load(split=\"dev\")\u001b[39;00m\n\u001b[1;32m     27\u001b[0m     \u001b[38;5;66;03m# else:\u001b[39;00m\n\u001b[1;32m     28\u001b[0m     \u001b[38;5;66;03m#     corpus, queries, qrels = GenericDataLoader(data_folder=dataset_path).load(split=\"test\")\u001b[39;00m\n\u001b[0;32m---> 29\u001b[0m     corpus, queries, qrels \u001b[38;5;241m=\u001b[39m \u001b[43mGenericDataLoader\u001b[49m\u001b[43m(\u001b[49m\u001b[43mdata_folder\u001b[49m\u001b[38;5;241;43m=\u001b[39;49m\u001b[43mdataset_path\u001b[49m\u001b[43m)\u001b[49m\u001b[38;5;241;43m.\u001b[39;49m\u001b[43mload\u001b[49m\u001b[43m(\u001b[49m\u001b[43msplit\u001b[49m\u001b[38;5;241;43m=\u001b[39;49m\u001b[38;5;124;43m\"\u001b[39;49m\u001b[38;5;124;43mtest\u001b[39;49m\u001b[38;5;124;43m\"\u001b[39;49m\u001b[43m)\u001b[49m\n\u001b[1;32m     30\u001b[0m     \u001b[38;5;28;01mreturn\u001b[39;00m corpus, queries, qrels\n",
      "File \u001b[0;32m~/miniconda3/envs/frag/lib/python3.11/site-packages/beir/datasets/data_loader.py:68\u001b[0m, in \u001b[0;36mGenericDataLoader.load\u001b[0;34m(self, split)\u001b[0m\n\u001b[1;32m     66\u001b[0m \u001b[38;5;28;01mif\u001b[39;00m \u001b[38;5;129;01mnot\u001b[39;00m \u001b[38;5;28mlen\u001b[39m(\u001b[38;5;28mself\u001b[39m\u001b[38;5;241m.\u001b[39mcorpus):\n\u001b[1;32m     67\u001b[0m     logger\u001b[38;5;241m.\u001b[39minfo(\u001b[38;5;124m\"\u001b[39m\u001b[38;5;124mLoading Corpus...\u001b[39m\u001b[38;5;124m\"\u001b[39m)\n\u001b[0;32m---> 68\u001b[0m     \u001b[38;5;28;43mself\u001b[39;49m\u001b[38;5;241;43m.\u001b[39;49m\u001b[43m_load_corpus\u001b[49m\u001b[43m(\u001b[49m\u001b[43m)\u001b[49m\n\u001b[1;32m     69\u001b[0m     logger\u001b[38;5;241m.\u001b[39minfo(\u001b[38;5;124m\"\u001b[39m\u001b[38;5;124mLoaded \u001b[39m\u001b[38;5;132;01m%d\u001b[39;00m\u001b[38;5;124m \u001b[39m\u001b[38;5;132;01m%s\u001b[39;00m\u001b[38;5;124m Documents.\u001b[39m\u001b[38;5;124m\"\u001b[39m, \u001b[38;5;28mlen\u001b[39m(\u001b[38;5;28mself\u001b[39m\u001b[38;5;241m.\u001b[39mcorpus), split\u001b[38;5;241m.\u001b[39mupper())\n\u001b[1;32m     70\u001b[0m     logger\u001b[38;5;241m.\u001b[39minfo(\u001b[38;5;124m\"\u001b[39m\u001b[38;5;124mDoc Example: \u001b[39m\u001b[38;5;132;01m%s\u001b[39;00m\u001b[38;5;124m\"\u001b[39m, \u001b[38;5;28mlist\u001b[39m(\u001b[38;5;28mself\u001b[39m\u001b[38;5;241m.\u001b[39mcorpus\u001b[38;5;241m.\u001b[39mvalues())[\u001b[38;5;241m0\u001b[39m])\n",
      "File \u001b[0;32m~/miniconda3/envs/frag/lib/python3.11/site-packages/beir/datasets/data_loader.py:101\u001b[0m, in \u001b[0;36mGenericDataLoader._load_corpus\u001b[0;34m(self)\u001b[0m\n\u001b[1;32m     99\u001b[0m \u001b[38;5;28;01mwith\u001b[39;00m \u001b[38;5;28mopen\u001b[39m(\u001b[38;5;28mself\u001b[39m\u001b[38;5;241m.\u001b[39mcorpus_file, encoding\u001b[38;5;241m=\u001b[39m\u001b[38;5;124m'\u001b[39m\u001b[38;5;124mutf8\u001b[39m\u001b[38;5;124m'\u001b[39m) \u001b[38;5;28;01mas\u001b[39;00m fIn:\n\u001b[1;32m    100\u001b[0m     \u001b[38;5;28;01mfor\u001b[39;00m line \u001b[38;5;129;01min\u001b[39;00m tqdm(fIn, total\u001b[38;5;241m=\u001b[39mnum_lines):\n\u001b[0;32m--> 101\u001b[0m         line \u001b[38;5;241m=\u001b[39m \u001b[43mjson\u001b[49m\u001b[38;5;241;43m.\u001b[39;49m\u001b[43mloads\u001b[49m\u001b[43m(\u001b[49m\u001b[43mline\u001b[49m\u001b[43m)\u001b[49m\n\u001b[1;32m    102\u001b[0m         \u001b[38;5;28mself\u001b[39m\u001b[38;5;241m.\u001b[39mcorpus[line\u001b[38;5;241m.\u001b[39mget(\u001b[38;5;124m\"\u001b[39m\u001b[38;5;124m_id\u001b[39m\u001b[38;5;124m\"\u001b[39m)] \u001b[38;5;241m=\u001b[39m {\n\u001b[1;32m    103\u001b[0m             \u001b[38;5;124m\"\u001b[39m\u001b[38;5;124mtext\u001b[39m\u001b[38;5;124m\"\u001b[39m: line\u001b[38;5;241m.\u001b[39mget(\u001b[38;5;124m\"\u001b[39m\u001b[38;5;124mtext\u001b[39m\u001b[38;5;124m\"\u001b[39m),\n\u001b[1;32m    104\u001b[0m             \u001b[38;5;124m\"\u001b[39m\u001b[38;5;124mtitle\u001b[39m\u001b[38;5;124m\"\u001b[39m: line\u001b[38;5;241m.\u001b[39mget(\u001b[38;5;124m\"\u001b[39m\u001b[38;5;124mtitle\u001b[39m\u001b[38;5;124m\"\u001b[39m),\n\u001b[1;32m    105\u001b[0m         }\n",
      "File \u001b[0;32m~/miniconda3/envs/frag/lib/python3.11/json/__init__.py:299\u001b[0m, in \u001b[0;36mloads\u001b[0;34m(s, cls, object_hook, parse_float, parse_int, parse_constant, object_pairs_hook, **kw)\u001b[0m\n\u001b[1;32m    276\u001b[0m \u001b[38;5;250m    \u001b[39m\u001b[38;5;124;03m\"\"\"Deserialize ``fp`` (a ``.read()``-supporting file-like object containing\u001b[39;00m\n\u001b[1;32m    277\u001b[0m \u001b[38;5;124;03m    a JSON document) to a Python object.\u001b[39;00m\n\u001b[1;32m    278\u001b[0m \n\u001b[0;32m   (...)\u001b[0m\n\u001b[1;32m    291\u001b[0m \u001b[38;5;124;03m    kwarg; otherwise ``JSONDecoder`` is used.\u001b[39;00m\n\u001b[1;32m    292\u001b[0m \u001b[38;5;124;03m    \"\"\"\u001b[39;00m\n\u001b[1;32m    293\u001b[0m     \u001b[38;5;28;01mreturn\u001b[39;00m loads(fp\u001b[38;5;241m.\u001b[39mread(),\n\u001b[1;32m    294\u001b[0m         \u001b[38;5;28mcls\u001b[39m\u001b[38;5;241m=\u001b[39m\u001b[38;5;28mcls\u001b[39m, object_hook\u001b[38;5;241m=\u001b[39mobject_hook,\n\u001b[1;32m    295\u001b[0m         parse_float\u001b[38;5;241m=\u001b[39mparse_float, parse_int\u001b[38;5;241m=\u001b[39mparse_int,\n\u001b[1;32m    296\u001b[0m         parse_constant\u001b[38;5;241m=\u001b[39mparse_constant, object_pairs_hook\u001b[38;5;241m=\u001b[39mobject_pairs_hook, \u001b[38;5;241m*\u001b[39m\u001b[38;5;241m*\u001b[39mkw)\n\u001b[0;32m--> 299\u001b[0m \u001b[38;5;28;01mdef\u001b[39;00m \u001b[38;5;21mloads\u001b[39m(s, \u001b[38;5;241m*\u001b[39m, \u001b[38;5;28mcls\u001b[39m\u001b[38;5;241m=\u001b[39m\u001b[38;5;28;01mNone\u001b[39;00m, object_hook\u001b[38;5;241m=\u001b[39m\u001b[38;5;28;01mNone\u001b[39;00m, parse_float\u001b[38;5;241m=\u001b[39m\u001b[38;5;28;01mNone\u001b[39;00m,\n\u001b[1;32m    300\u001b[0m         parse_int\u001b[38;5;241m=\u001b[39m\u001b[38;5;28;01mNone\u001b[39;00m, parse_constant\u001b[38;5;241m=\u001b[39m\u001b[38;5;28;01mNone\u001b[39;00m, object_pairs_hook\u001b[38;5;241m=\u001b[39m\u001b[38;5;28;01mNone\u001b[39;00m, \u001b[38;5;241m*\u001b[39m\u001b[38;5;241m*\u001b[39mkw):\n\u001b[1;32m    301\u001b[0m \u001b[38;5;250m    \u001b[39m\u001b[38;5;124;03m\"\"\"Deserialize ``s`` (a ``str``, ``bytes`` or ``bytearray`` instance\u001b[39;00m\n\u001b[1;32m    302\u001b[0m \u001b[38;5;124;03m    containing a JSON document) to a Python object.\u001b[39;00m\n\u001b[1;32m    303\u001b[0m \n\u001b[0;32m   (...)\u001b[0m\n\u001b[1;32m    331\u001b[0m \u001b[38;5;124;03m    kwarg; otherwise ``JSONDecoder`` is used.\u001b[39;00m\n\u001b[1;32m    332\u001b[0m \u001b[38;5;124;03m    \"\"\"\u001b[39;00m\n\u001b[1;32m    333\u001b[0m     \u001b[38;5;28;01mif\u001b[39;00m \u001b[38;5;28misinstance\u001b[39m(s, \u001b[38;5;28mstr\u001b[39m):\n",
      "\u001b[0;31mKeyboardInterrupt\u001b[0m: "
     ]
    }
   ],
   "source": [
    "BEIR_DATASET_NAMES = [\"trec-covid\", \"climate-fever\", \"dbpedia-entity\", \"fever\", \"fiqa\", \"hotpotqa\", \"msmarco\",  \"nfcorpus\", \"nq\", \"scidocs\", \"scifact\"]\n",
    "SIZE_NAME = \"toy\"\n",
    "\n",
    "all_scores = defaultdict(dict)\n",
    "\n",
    "for dataset_name in tqdm(BEIR_DATASET_NAMES):\n",
    "    all_scores[dataset_name] = {}\n",
    "    print(f\"> {dataset_name} rerank:\")\n",
    "    dataset_path = f'/home/song/dataset/beir/{dataset_name}'\n",
    "    rerank_result_path = f'output/rerank/{dataset_name}/rerank-{SIZE_NAME}.tsv'\n",
    "    print(f\"rerank_result_path: {rerank_result_path}\")\n",
    "    rerank_scores = eval_beir_rank_result(rerank_result_path, dataset_path, dataset_name, k_values=[1,3,5,10])\n",
    "    all_scores[dataset_name][\"entropy\"] = rerank_scores\n",
    "    print(f\">> {dataset_name} rank:\")\n",
    "    rank_result_path = f'/home/song/dataset/first/beir_rank/{dataset_name}/rank.tsv'\n",
    "    rank_scores = eval_beir_rank_result(rank_result_path, dataset_path, dataset_name, k_values=[1,3,5,10])\n",
    "    all_scores[dataset_name][\"rank\"] = rerank_scores\n",
    "print(\"ALL DONE!\")\n",
    "\n",
    "# def eval_beir_rank_result(rank_result_path, dataset_path, dataset_name, k_values=[1,3,5,10]):"
   ]
  },
  {
   "cell_type": "code",
   "execution_count": null,
   "metadata": {},
   "outputs": [],
   "source": [
    "all_scores"
   ]
  }
 ],
 "metadata": {
  "kernelspec": {
   "display_name": "frag",
   "language": "python",
   "name": "python3"
  },
  "language_info": {
   "codemirror_mode": {
    "name": "ipython",
    "version": 3
   },
   "file_extension": ".py",
   "mimetype": "text/x-python",
   "name": "python",
   "nbconvert_exporter": "python",
   "pygments_lexer": "ipython3",
   "version": "3.11.5"
  }
 },
 "nbformat": 4,
 "nbformat_minor": 2
}
