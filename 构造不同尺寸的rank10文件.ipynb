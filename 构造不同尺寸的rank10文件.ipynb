{
 "cells": [
  {
   "cell_type": "code",
   "execution_count": null,
   "metadata": {},
   "outputs": [
    {
     "name": "stderr",
     "output_type": "stream",
     "text": [
      " 45%|████▌     | 5/11 [00:09<00:12,  2.05s/it]"
     ]
    }
   ],
   "source": [
    "# 读取rank数据，只取前10/100个，保存为tsv文件\n",
    "\n",
    "import os\n",
    "import json\n",
    "import jsonlines\n",
    "import pandas as pd\n",
    "from collections import defaultdict\n",
    "import shutil\n",
    "from tqdm import tqdm\n",
    "import csv\n",
    "\n",
    "dataset_names = [\"trec-covid\", \"climate-fever\", \"dbpedia-entity\", \"fever\", \"fiqa\", \"hotpotqa\", \"msmarco\",  \"nfcorpus\", \"nq\", \"scidocs\", \"scifact\"]\n",
    "for dataset_name in tqdm(dataset_names):\n",
    "    rank_result_path = f'/home/song/dataset/first/beir_rank/{dataset_name}/rank.tsv'\n",
    "    df = pd.read_csv(rank_result_path, sep='\\t', header=None, names=['qid', 'doc_id', 'score'])\n",
    "    df = df.groupby('qid').head(100)\n",
    "    df.to_csv(f'dataset/rank/{dataset_name}/{dataset_name}-rank100.tsv', sep='\\t', index=False, header=False)"
   ]
  },
  {
   "cell_type": "code",
   "execution_count": 1,
   "metadata": {},
   "outputs": [
    {
     "name": "stderr",
     "output_type": "stream",
     "text": [
      "Building rank datasets: 100%|██████████| 11/11 [00:16<00:00,  1.49s/it]\n",
      "Building rank datasets: 100%|██████████| 11/11 [00:16<00:00,  1.47s/it]\n",
      "Building rank datasets: 100%|██████████| 11/11 [00:16<00:00,  1.48s/it]\n",
      "Building rank datasets: 100%|██████████| 11/11 [00:16<00:00,  1.52s/it]"
     ]
    },
    {
     "name": "stdout",
     "output_type": "stream",
     "text": [
      "Done!\n"
     ]
    },
    {
     "name": "stderr",
     "output_type": "stream",
     "text": [
      "\n"
     ]
    }
   ],
   "source": [
    "import os\n",
    "import json\n",
    "import jsonlines\n",
    "import pandas as pd\n",
    "from collections import defaultdict\n",
    "import shutil\n",
    "from tqdm import tqdm\n",
    "import csv\n",
    "from make_rank_dataset import load_dataset, load_rank_results, make_rank_dataset\n",
    "\n",
    "# 数据集目录\n",
    "DATASET_DIR = '/home/song/dataset/beir'\n",
    "# 检索结果目录\n",
    "RANK_RESULT_DIR = '/home/song/dataset/first/beir_rank'\n",
    "# FIRST所使用的11个数据集\n",
    "BEIR_DATASET_NAMES = [\"trec-covid\", \"climate-fever\", \"dbpedia-entity\", \"fever\", \"fiqa\", \"hotpotqa\", \"msmarco\",  \"nfcorpus\", \"nq\", \"scidocs\", \"scifact\"]\n",
    "# 尺寸后缀、问题数量、文档数量\n",
    "SIZES = [(\"toy\", 10, 10), (\"small\", 50, 10), (\"large\", 500, 10), (\"all\", 10000, 10)]\n",
    "# SIZES = [(\"small100\", 50, 100)]\n",
    "# SIZES = [(\"large\", 500, 10)]\n",
    "# SIZES = [(\"all\", 10000, 10)]\n",
    "\n",
    "for size_name, query_num, rank_num in SIZES:\n",
    "    for dataset_name in tqdm(BEIR_DATASET_NAMES, desc=\"Building rank datasets\"):\n",
    "        dataset_path = os.path.join(DATASET_DIR, dataset_name)\n",
    "        rank_result_path = os.path.join(RANK_RESULT_DIR, dataset_name, \"rank.tsv\")\n",
    "        df = pd.read_csv(rank_result_path, sep='\\t', header=None, names=['qid', 'doc_id', 'score'])\n",
    "        df = df.groupby('qid').head(10)\n",
    "        # 只取前query_num*rank_num个\n",
    "        df = df.head(query_num*rank_num)\n",
    "        df.to_csv(f'dataset/rank/{dataset_name}/{dataset_name}-rank{rank_num}-{size_name}.tsv', sep='\\t', index=False, header=False)\n",
    "\n",
    "print(\"Done!\")\n"
   ]
  }
 ],
 "metadata": {
  "kernelspec": {
   "display_name": "frag",
   "language": "python",
   "name": "python3"
  },
  "language_info": {
   "codemirror_mode": {
    "name": "ipython",
    "version": 3
   },
   "file_extension": ".py",
   "mimetype": "text/x-python",
   "name": "python",
   "nbconvert_exporter": "python",
   "pygments_lexer": "ipython3",
   "version": "3.11.5"
  }
 },
 "nbformat": 4,
 "nbformat_minor": 2
}
