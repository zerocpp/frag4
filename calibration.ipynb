{
 "cells": [
  {
   "cell_type": "code",
   "execution_count": null,
   "metadata": {},
   "outputs": [],
   "source": [
    "from datetime import datetime\n",
    "# 打印当前时间，按照年-月-日 小时:分钟:秒的格式\n",
    "print(\"Start time:\", datetime.now().strftime(\"%Y-%m-%d %H:%M:%S\"))\n",
    "\n",
    "# 记录开始时间\n",
    "from time import time\n",
    "start = time()"
   ]
  },
  {
   "cell_type": "markdown",
   "metadata": {},
   "source": [
    "# 绘制校准曲线：语义熵与准确率"
   ]
  },
  {
   "cell_type": "code",
   "execution_count": null,
   "metadata": {},
   "outputs": [],
   "source": [
    "%load_ext autoreload\n",
    "%autoreload 2\n",
    "\n",
    "import json\n",
    "import warnings\n",
    "import os\n",
    "import pickle\n",
    "from tqdm import tqdm\n",
    "import torch\n",
    "from collections import defaultdict, Counter\n",
    "import argparse\n",
    "from core.models.entailment import EntailmentDeberta\n",
    "from core.data.data_utils import load_ds_from_json\n",
    "import numpy as np\n",
    "import pandas as pd\n",
    "import scipy\n",
    "from matplotlib import pyplot as plt\n",
    "from sklearn import metrics\n",
    "from sklearn.linear_model import LogisticRegression\n",
    "from sklearn.metrics import log_loss, roc_auc_score, mean_squared_error\n",
    "from sklearn.model_selection import train_test_split\n",
    "\n",
    "import csv\n",
    "import jsonlines\n",
    "import json\n",
    "import torch\n",
    "from torch import nn, optim\n",
    "from transformers import AutoTokenizer, GPT2LMHeadModel, GPT2Tokenizer, GPTJForCausalLM\n",
    "from tqdm import tqdm\n",
    "import numpy as np\n",
    "import os\n",
    "\n",
    "from matplotlib import pyplot as plt\n",
    "from matplotlib.patches import Rectangle\n",
    "import seaborn as sns\n",
    "import pandas as pd\n",
    "import scipy.stats\n",
    "\n",
    "warnings.filterwarnings(\"ignore\")\n",
    "plt.rcParams.update({'font.size': 12})\n",
    "rng = np.random.default_rng(42)\n",
    "\n",
    "\n",
    "def load_pickle_file(file_path):\n",
    "    with open(file_path, 'rb') as f:\n",
    "        data = pickle.load(f)\n",
    "    return data\n",
    "\n",
    "def save_pickle_file(file_path, data):\n",
    "    with open(file_path, 'wb') as f:\n",
    "        pickle.dump(data, f)"
   ]
  },
  {
   "cell_type": "code",
   "execution_count": null,
   "metadata": {},
   "outputs": [],
   "source": [
    "def plot_calibration(probe_preds):\n",
    "    p_true = probe_preds\n",
    "    p_false = 1 - p_true\n",
    "    calib_range = []\n",
    "    calib_acc = []\n",
    "    calib_size = []\n",
    "    step = 0.1\n",
    "    for start in np.arange(0, 1 + step, step):\n",
    "        end = start + step\n",
    "        pred_true = ((start <= p_true) & (p_true < end)).sum()\n",
    "        pred_false = ((start <= p_false) & (p_false < end)).sum()\n",
    "        if pred_true + pred_false == 0:\n",
    "            continue\n",
    "        frac_true = pred_true / (pred_true + pred_false)\n",
    "        calib_range.append(start)\n",
    "        calib_acc.append(frac_true)\n",
    "        calib_size.append(pred_true + pred_false)\n",
    "\n",
    "    data = pd.DataFrame({\"range\": calib_range, \"acc\": calib_acc, \"size\": calib_size})\n",
    "    fig, ax = plt.subplots(figsize=(3, 3))\n",
    "    sns.scatterplot(ax=ax, data=data, x=\"range\", y=\"acc\", size=\"size\")\n",
    "    ax.get_legend().remove()\n",
    "\n",
    "    plt.xlim(0, 1)\n",
    "    plt.ylim(0, 1)\n",
    "    plt.show()\n",
    "\n",
    "# for dataset in data:\n",
    "#     print(dataset)\n",
    "#     plot_calibration(probe_preds[dataset])\n",
    "#     plot_calibration(torch.sigmoid(data_processed[dataset][\"valid\"][\"ratio\"].float()).detach().cpu().numpy())"
   ]
  }
 ],
 "metadata": {
  "kernelspec": {
   "display_name": "frag",
   "language": "python",
   "name": "python3"
  },
  "language_info": {
   "name": "python",
   "version": "3.11.5"
  }
 },
 "nbformat": 4,
 "nbformat_minor": 2
}
