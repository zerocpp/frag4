{
 "cells": [
  {
   "cell_type": "code",
   "execution_count": 5,
   "metadata": {},
   "outputs": [
    {
     "name": "stderr",
     "output_type": "stream",
     "text": [
      "dataset: 100%|██████████| 8/8 [00:00<00:00, 17586.18it/s]"
     ]
    },
    {
     "name": "stdout",
     "output_type": "stream",
     "text": [
      "output_file_path=\"output/export/trec-covid-large.tsv\"\n",
      "df = pd.read_csv(output_file_path, sep='\\t')\n",
      "df\n",
      "\n",
      "output_file_path=\"output/export/climate-fever-large.tsv\"\n",
      "df = pd.read_csv(output_file_path, sep='\\t')\n",
      "df\n",
      "\n",
      "output_file_path=\"output/export/dbpedia-entity-large.tsv\"\n",
      "df = pd.read_csv(output_file_path, sep='\\t')\n",
      "df\n",
      "\n",
      "output_file_path=\"output/export/fever-large.tsv\"\n",
      "df = pd.read_csv(output_file_path, sep='\\t')\n",
      "df\n",
      "\n",
      "output_file_path=\"output/export/hotpotqa-large.tsv\"\n",
      "df = pd.read_csv(output_file_path, sep='\\t')\n",
      "df\n",
      "\n",
      "output_file_path=\"output/export/nfcorpus-large.tsv\"\n",
      "df = pd.read_csv(output_file_path, sep='\\t')\n",
      "df\n",
      "\n",
      "output_file_path=\"output/export/nq-large.tsv\"\n",
      "df = pd.read_csv(output_file_path, sep='\\t')\n",
      "df\n",
      "\n",
      "output_file_path=\"output/export/scidocs-large.tsv\"\n",
      "df = pd.read_csv(output_file_path, sep='\\t')\n",
      "df\n",
      "\n"
     ]
    },
    {
     "name": "stderr",
     "output_type": "stream",
     "text": [
      "\n"
     ]
    }
   ],
   "source": [
    "from tqdm import tqdm\n",
    "import pandas as pd\n",
    "\n",
    "size_name = \"large\"\n",
    "dataset_names = [\"trec-covid\", \"climate-fever\", \"dbpedia-entity\", \"fever\", \"hotpotqa\", \"nfcorpus\", \"nq\", \"scidocs\"]\n",
    "for dataset_name in tqdm(dataset_names, desc='dataset'):\n",
    "    output_file_path = f'output/export/{dataset_name}-{size_name}.tsv'\n",
    "    print(f'output_file_path=\"{output_file_path}\"')\n",
    "    print(f\"df = pd.read_csv(output_file_path, sep='\\\\t')\")\n",
    "    print(\"df\")\n",
    "    print()"
   ]
  },
  {
   "cell_type": "code",
   "execution_count": 26,
   "metadata": {},
   "outputs": [
    {
     "name": "stderr",
     "output_type": "stream",
     "text": [
      "dataset:   0%|          | 0/8 [00:00<?, ?it/s]"
     ]
    },
    {
     "name": "stdout",
     "output_type": "stream",
     "text": [
      "trec-covid 500 500\n"
     ]
    },
    {
     "name": "stderr",
     "output_type": "stream",
     "text": [
      "dataset:  25%|██▌       | 2/8 [00:00<00:01,  5.05it/s]"
     ]
    },
    {
     "name": "stdout",
     "output_type": "stream",
     "text": [
      "climate-fever 1530 5000\n"
     ]
    },
    {
     "name": "stderr",
     "output_type": "stream",
     "text": [
      "dataset:  62%|██████▎   | 5/8 [00:00<00:00,  7.77it/s]"
     ]
    },
    {
     "name": "stdout",
     "output_type": "stream",
     "text": [
      "dbpedia-entity 4000 4000\n",
      "fever 320 5000\n",
      "hotpotqa 230 5000\n"
     ]
    },
    {
     "name": "stderr",
     "output_type": "stream",
     "text": [
      "dataset:  88%|████████▊ | 7/8 [00:01<00:00,  6.96it/s]"
     ]
    },
    {
     "name": "stdout",
     "output_type": "stream",
     "text": [
      "nfcorpus 3230 3230\n",
      "nq 610 5000\n"
     ]
    },
    {
     "name": "stderr",
     "output_type": "stream",
     "text": [
      "dataset: 100%|██████████| 8/8 [00:01<00:00,  6.45it/s]"
     ]
    },
    {
     "name": "stdout",
     "output_type": "stream",
     "text": [
      "scidocs 120 5000\n"
     ]
    },
    {
     "name": "stderr",
     "output_type": "stream",
     "text": [
      "\n"
     ]
    }
   ],
   "source": [
    "for dataset_name in tqdm(dataset_names, desc='dataset'):\n",
    "    output_file_path=f\"output/export/{dataset_name}-large.tsv\"\n",
    "    df = pd.read_csv(output_file_path, sep='\\t')\n",
    "    # 统计doc_clusters列不为空的元素占比\n",
    "    print(dataset_name, df['doc_clusters'].apply(lambda x: int(len(x)>0) if type(x)==str else 0).sum(), len(df))\n",
    "\n",
    "\n",
    "    # print(dataset_name, len(df['doc_clusters']))\n",
    "    # print(dataset_name, df['doc_clusters'].apply(lambda x: int(len(x)>0)).sum(), len(df))"
   ]
  }
 ],
 "metadata": {
  "kernelspec": {
   "display_name": "frag",
   "language": "python",
   "name": "python3"
  },
  "language_info": {
   "codemirror_mode": {
    "name": "ipython",
    "version": 3
   },
   "file_extension": ".py",
   "mimetype": "text/x-python",
   "name": "python",
   "nbconvert_exporter": "python",
   "pygments_lexer": "ipython3",
   "version": "3.11.5"
  }
 },
 "nbformat": 4,
 "nbformat_minor": 2
}
